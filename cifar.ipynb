{
  "nbformat": 4,
  "nbformat_minor": 0,
  "metadata": {
    "kernelspec": {
      "name": "python3",
      "display_name": "Python 3"
    },
    "language_info": {
      "codemirror_mode": {
        "name": "ipython",
        "version": 3
      },
      "file_extension": ".py",
      "mimetype": "text/x-python",
      "name": "python",
      "nbconvert_exporter": "python",
      "pygments_lexer": "ipython3",
      "version": "3.6.8"
    },
    "colab": {
      "name": "cifar.ipynb",
      "provenance": [],
      "collapsed_sections": [
        "LvfEdIzXfumu",
        "k-guEkq8fuov"
      ],
      "toc_visible": true,
      "include_colab_link": true
    },
    "accelerator": "GPU"
  },
  "cells": [
    {
      "cell_type": "markdown",
      "metadata": {
        "id": "view-in-github",
        "colab_type": "text"
      },
      "source": [
        "<a href=\"https://colab.research.google.com/github/arnabdas29/image-processing/blob/master/cifar.ipynb\" target=\"_parent\"><img src=\"https://colab.research.google.com/assets/colab-badge.svg\" alt=\"Open In Colab\"/></a>"
      ]
    },
    {
      "cell_type": "markdown",
      "metadata": {
        "id": "8zq9T5Zrfuk2",
        "colab_type": "text"
      },
      "source": [
        "# INTRO TO DENSE NETWORKS\n"
      ]
    },
    {
      "cell_type": "code",
      "metadata": {
        "id": "m75z0A4AlStz",
        "colab_type": "code",
        "outputId": "61b8acc7-0514-4799-f370-98261aa36b58",
        "colab": {
          "base_uri": "https://localhost:8080/",
          "height": 90
        }
      },
      "source": [
        "from google.colab import drive\n",
        "path = drive.mount('/content/drive')\n",
        "import os\n",
        "print(os.listdir(path))\n",
        "\n",
        "path = \"./drive/My Drive/DL_Workshop/\"\n",
        "print(os.listdir(path))\n",
        "\n"
      ],
      "execution_count": 0,
      "outputs": [
        {
          "output_type": "stream",
          "text": [
            "Drive already mounted at /content/drive; to attempt to forcibly remount, call drive.mount(\"/content/drive\", force_remount=True).\n",
            "['.config', 'drive', 'sample_data']\n",
            "['FASHION MNIST', 'imgs_clipped_new', 'cifar-10-batches-py', 'filters.png', 'padding.png', 'overfit.PNG', 'Fashion MNIST.ipynb', 'fashion-mnist_test.csv', 'fashion-mnist_train.csv', 'kernel.png', 'dense.png', 'cifar.ipynb']\n"
          ],
          "name": "stdout"
        }
      ]
    },
    {
      "cell_type": "markdown",
      "metadata": {
        "id": "gykWw1e4fuk_",
        "colab_type": "text"
      },
      "source": [
        "![](https://drive.google.com/uc?id=1X-KdNLfLX5M3KgtXyWFTx6AkUN0tMYG2)"
      ]
    },
    {
      "cell_type": "code",
      "metadata": {
        "id": "CMK0PTqOfulD",
        "colab_type": "code",
        "outputId": "000cc4fc-c3c8-428b-e4cc-ab046c9bc337",
        "colab": {
          "base_uri": "https://localhost:8080/",
          "height": 52
        }
      },
      "source": [
        "from keras.datasets import mnist\n",
        "import numpy as np\n",
        "\n",
        "(xtrain, ytrain), (xtest,ytest) = mnist.load_data()\n",
        "\n",
        "print(xtrain.shape, ytrain.shape)\n",
        "print(xtest.shape, ytest.shape)"
      ],
      "execution_count": 0,
      "outputs": [
        {
          "output_type": "stream",
          "text": [
            "(60000, 28, 28) (60000,)\n",
            "(10000, 28, 28) (10000,)\n"
          ],
          "name": "stdout"
        }
      ]
    },
    {
      "cell_type": "markdown",
      "metadata": {
        "id": "EJ1cv2xofulS",
        "colab_type": "text"
      },
      "source": [
        "### we need to normalize the dataset"
      ]
    },
    {
      "cell_type": "code",
      "metadata": {
        "id": "QHWfjS1MfulW",
        "colab_type": "code",
        "colab": {}
      },
      "source": [
        "xtrain, xtest = np.array(xtrain), np.array(xtest)\n",
        "\n",
        "xtrain = xtrain/255\n",
        "xtest = xtest/255\n",
        "\n"
      ],
      "execution_count": 0,
      "outputs": []
    },
    {
      "cell_type": "markdown",
      "metadata": {
        "id": "ej0PEgJPfulg",
        "colab_type": "text"
      },
      "source": [
        "### visualising the dataset: "
      ]
    },
    {
      "cell_type": "code",
      "metadata": {
        "id": "yGIdPDHFfulj",
        "colab_type": "code",
        "outputId": "b74d33d3-197f-434b-d4ac-37dd7020f4dd",
        "colab": {
          "base_uri": "https://localhost:8080/",
          "height": 357
        }
      },
      "source": [
        "import matplotlib.pyplot as plt\n",
        "\n",
        "for i in range(5):\n",
        "    plt.subplot(5,1,i+1)\n",
        "    _ = np.random.randint(1000)\n",
        "    plt.imshow(xtrain[_])\n",
        "    print(ytrain[_])\n",
        "    "
      ],
      "execution_count": 0,
      "outputs": [
        {
          "output_type": "stream",
          "text": [
            "3\n",
            "6\n",
            "6\n",
            "4\n",
            "4\n"
          ],
          "name": "stdout"
        },
        {
          "output_type": "display_data",
          "data": {
            "image/png": "[encoded data removed]",
            "text/plain": [
              "<Figure size 432x288 with 5 Axes>"
            ]
          },
          "metadata": {
            "tags": []
          }
        }
      ]
    },
    {
      "cell_type": "markdown",
      "metadata": {
        "id": "z5Xa0VxIfulx",
        "colab_type": "text"
      },
      "source": [
        "### changing the data shape:"
      ]
    },
    {
      "cell_type": "code",
      "metadata": {
        "id": "c6Uqg1Sdful1",
        "colab_type": "code",
        "outputId": "10bed2f3-120d-4654-d884-6028ec0a4207",
        "colab": {
          "base_uri": "https://localhost:8080/",
          "height": 52
        }
      },
      "source": [
        "xtrain = xtrain.reshape(xtrain.shape[0], xtrain.shape[1], xtrain.shape[2], 1)\n",
        "xtest = xtest.reshape(xtest.shape[0], xtest.shape[1], xtest.shape[2], 1)\n",
        "\n",
        "print(xtrain.shape)\n",
        "print(xtest.shape)"
      ],
      "execution_count": 0,
      "outputs": [
        {
          "output_type": "stream",
          "text": [
            "(60000, 28, 28, 1)\n",
            "(10000, 28, 28, 1)\n"
          ],
          "name": "stdout"
        }
      ]
    },
    {
      "cell_type": "markdown",
      "metadata": {
        "id": "AE1gsq9vfumA",
        "colab_type": "text"
      },
      "source": [
        "### creating a neural network"
      ]
    },
    {
      "cell_type": "code",
      "metadata": {
        "id": "hKb-6G7SfumE",
        "colab_type": "code",
        "outputId": "958f15c1-1b3a-4f53-d89e-399596ce7a75",
        "colab": {
          "base_uri": "https://localhost:8080/",
          "height": 407
        }
      },
      "source": [
        "from keras.models import Sequential\n",
        "from keras.layers import Dense, Flatten\n",
        "from keras.activations import sigmoid, tanh\n",
        "from keras.optimizers import SGD\n",
        "from keras.losses import categorical_crossentropy\n",
        "\n",
        "model = Sequential()\n",
        "\n",
        "model.add(Dense(100, input_shape=(28,28,1), activation = \"tanh\"))\n",
        "model.add(Flatten())\n",
        "model.add(Dense(200, activation = \"tanh\"))\n",
        "model.add(Dense(300, activation = \"tanh\"))\n",
        "model.add(Dense(200, activation = \"tanh\"))\n",
        "model.add(Dense(100, activation = \"tanh\"))\n",
        "model.add(Dense(10, activation = \"softmax\"))\n",
        "\n",
        "model.compile(SGD(), loss = \"categorical_crossentropy\", metrics = [\"acc\"])\n",
        "\n",
        "model.summary()"
      ],
      "execution_count": 0,
      "outputs": [
        {
          "output_type": "stream",
          "text": [
            "Model: \"sequential_3\"\n",
            "_________________________________________________________________\n",
            "Layer (type)                 Output Shape              Param #   \n",
            "=================================================================\n",
            "dense_13 (Dense)             (None, 28, 28, 100)       200       \n",
            "_________________________________________________________________\n",
            "flatten_3 (Flatten)          (None, 78400)             0         \n",
            "_________________________________________________________________\n",
            "dense_14 (Dense)             (None, 200)               15680200  \n",
            "_________________________________________________________________\n",
            "dense_15 (Dense)             (None, 300)               60300     \n",
            "_________________________________________________________________\n",
            "dense_16 (Dense)             (None, 200)               60200     \n",
            "_________________________________________________________________\n",
            "dense_17 (Dense)             (None, 100)               20100     \n",
            "_________________________________________________________________\n",
            "dense_18 (Dense)             (None, 10)                1010      \n",
            "=================================================================\n",
            "Total params: 15,822,010\n",
            "Trainable params: 15,822,010\n",
            "Non-trainable params: 0\n",
            "_________________________________________________________________\n"
          ],
          "name": "stdout"
        }
      ]
    },
    {
      "cell_type": "markdown",
      "metadata": {
        "id": "q1zZXseifumM",
        "colab_type": "text"
      },
      "source": [
        "### WE NEED TO MAKE THE LABELS CATEGORICAL:"
      ]
    },
    {
      "cell_type": "code",
      "metadata": {
        "id": "bmKhLtutfumO",
        "colab_type": "code",
        "outputId": "750d7d94-1e66-4776-a7d9-531fdd888190",
        "colab": {
          "base_uri": "https://localhost:8080/",
          "height": 247
        }
      },
      "source": [
        "from keras.utils import np_utils\n",
        "\n",
        "print(\"sparse categorical\", ytrain[:10], sep=\"\\n\")\n",
        "ytrain = np_utils.to_categorical(ytrain)\n",
        "ytest = np_utils.to_categorical(ytest)\n",
        "print(\"categorical\", ytrain[:10], sep = \"\\n\")"
      ],
      "execution_count": 0,
      "outputs": [
        {
          "output_type": "stream",
          "text": [
            "sparse categorical\n",
            "[5 0 4 1 9 2 1 3 1 4]\n",
            "categorical\n",
            "[[0. 0. 0. 0. 0. 1. 0. 0. 0. 0.]\n",
            " [1. 0. 0. 0. 0. 0. 0. 0. 0. 0.]\n",
            " [0. 0. 0. 0. 1. 0. 0. 0. 0. 0.]\n",
            " [0. 1. 0. 0. 0. 0. 0. 0. 0. 0.]\n",
            " [0. 0. 0. 0. 0. 0. 0. 0. 0. 1.]\n",
            " [0. 0. 1. 0. 0. 0. 0. 0. 0. 0.]\n",
            " [0. 1. 0. 0. 0. 0. 0. 0. 0. 0.]\n",
            " [0. 0. 0. 1. 0. 0. 0. 0. 0. 0.]\n",
            " [0. 1. 0. 0. 0. 0. 0. 0. 0. 0.]\n",
            " [0. 0. 0. 0. 1. 0. 0. 0. 0. 0.]]\n"
          ],
          "name": "stdout"
        }
      ]
    },
    {
      "cell_type": "code",
      "metadata": {
        "id": "ZEKws-jvfumW",
        "colab_type": "code",
        "outputId": "d948f04d-e619-420c-ff18-1c0ac83a5d97",
        "colab": {
          "base_uri": "https://localhost:8080/",
          "height": 230
        }
      },
      "source": [
        "model.fit(xtrain, ytrain, validation_data = (xtest, ytest), epochs = 5, verbose = 2, batch_size = 100)"
      ],
      "execution_count": 0,
      "outputs": [
        {
          "output_type": "stream",
          "text": [
            "Train on 60000 samples, validate on 10000 samples\n",
            "Epoch 1/5\n",
            " - 8s - loss: 0.5788 - acc: 0.8643 - val_loss: 0.3340 - val_acc: 0.9086\n",
            "Epoch 2/5\n",
            " - 8s - loss: 0.3099 - acc: 0.9126 - val_loss: 0.2768 - val_acc: 0.9223\n",
            "Epoch 3/5\n",
            " - 8s - loss: 0.2666 - acc: 0.9234 - val_loss: 0.2453 - val_acc: 0.9300\n",
            "Epoch 4/5\n",
            " - 8s - loss: 0.2375 - acc: 0.9310 - val_loss: 0.2261 - val_acc: 0.9339\n",
            "Epoch 5/5\n",
            " - 8s - loss: 0.2124 - acc: 0.9389 - val_loss: 0.2004 - val_acc: 0.9417\n"
          ],
          "name": "stdout"
        },
        {
          "output_type": "execute_result",
          "data": {
            "text/plain": [
              "<keras.callbacks.History at 0x7f67300b5470>"
            ]
          },
          "metadata": {
            "tags": []
          },
          "execution_count": 41
        }
      ]
    },
    {
      "cell_type": "markdown",
      "metadata": {
        "id": "Q3iAtduUfumd",
        "colab_type": "text"
      },
      "source": [
        "# Increase in accuracy with reduction of parameters?\n",
        "\n",
        "look at this network's results\n",
        "\n"
      ]
    },
    {
      "cell_type": "markdown",
      "metadata": {
        "id": "dFqvGVJ6fumg",
        "colab_type": "text"
      },
      "source": [
        "# INTRODUCTION TO CONVOLUTION NEURAL NETWORKS\n",
        "\n",
        "## what is convolution nets:\n",
        "To understand this we need to know what are kernel and filters\n",
        "## what is a kernel?\n",
        "\n",
        "\n",
        "![alt text](https://drive.google.com/uc?id=1Qvv2krSo1e10naQhmBoPnoZYePEeAsxx)\n",
        "## what is a filter?\n",
        "\n",
        "\n",
        "<img src=\"filters.png\" alt=\"Alt text that describes the graphic\" title=\"Title text\" />\n",
        "\n",
        "## what is padding?\n",
        "\n",
        "<img src=\"padding.png\" alt=\"Alt text that describes the graphic\" title=\"Title text\" />"
      ]
    },
    {
      "cell_type": "markdown",
      "metadata": {
        "id": "2-pVjfmwfumi",
        "colab_type": "text"
      },
      "source": [
        "In the forward pass, you will take many filters and convolve them on the input. Each 'convolution' gives you a 2D matrix output. You will then stack these outputs to get a 3D volume:\n",
        "\n",
        "\n",
        "\n",
        "The formulas relating the output shape of the convolution to the input shape is:$$ n_H = \\lfloor \\frac{n_{H_{prev}} - f + 2 \\times pad}{stride} \\rfloor +1 $$$$ n_W = \\lfloor \\frac{n_{W_{prev}} - f + 2 \\times pad}{stride} \\rfloor +1 $$$$ n_C = \\text{number of filters used in the convolution}$$"
      ]
    },
    {
      "cell_type": "markdown",
      "metadata": {
        "id": "wAC5Wzcefuml",
        "colab_type": "text"
      },
      "source": [
        "## why do we need convolutional networks?\n",
        "- they are very good at feature extraction\n",
        "- we can build encode-decoder networks\n",
        "- they can be used to not only in images but also in sound signals\n",
        "- they can be used for dimention reduction\n",
        "\n",
        "\n",
        "## visualizing the convolutional networks:\n",
        "\n",
        "<a href=\"https://cs.stanford.edu/people/karpathy/convnetjs/demo/mnist.html\">Visualization</a>"
      ]
    },
    {
      "cell_type": "code",
      "metadata": {
        "id": "QnQiQFwRhwcZ",
        "colab_type": "code",
        "outputId": "903adb43-05c5-4809-efcb-6b67fd8033ed",
        "colab": {
          "base_uri": "https://localhost:8080/",
          "height": 294
        }
      },
      "source": [
        "from google.colab import drive\n",
        "path = drive.mount('/content/drive')\n",
        "import os\n",
        "print(os.listdir(path))\n",
        "\n",
        "path = path + \"/cifar-10-batches-py/\"\n",
        "print(os.listdir(path))\n",
        "\n"
      ],
      "execution_count": 0,
      "outputs": [
        {
          "output_type": "stream",
          "text": [
            "Drive already mounted at /content/drive; to attempt to forcibly remount, call drive.mount(\"/content/drive\", force_remount=True).\n",
            "['.config', 'drive', 'sample_data']\n"
          ],
          "name": "stdout"
        },
        {
          "output_type": "error",
          "ename": "TypeError",
          "evalue": "ignored",
          "traceback": [
            "\u001b[0;31m---------------------------------------------------------------------------\u001b[0m",
            "\u001b[0;31mTypeError\u001b[0m                                 Traceback (most recent call last)",
            "\u001b[0;32m<ipython-input-43-d400c50d126d>\u001b[0m in \u001b[0;36m<module>\u001b[0;34m()\u001b[0m\n\u001b[1;32m      4\u001b[0m \u001b[0mprint\u001b[0m\u001b[0;34m(\u001b[0m\u001b[0mos\u001b[0m\u001b[0;34m.\u001b[0m\u001b[0mlistdir\u001b[0m\u001b[0;34m(\u001b[0m\u001b[0mpath\u001b[0m\u001b[0;34m)\u001b[0m\u001b[0;34m)\u001b[0m\u001b[0;34m\u001b[0m\u001b[0;34m\u001b[0m\u001b[0m\n\u001b[1;32m      5\u001b[0m \u001b[0;34m\u001b[0m\u001b[0m\n\u001b[0;32m----> 6\u001b[0;31m \u001b[0mpath\u001b[0m \u001b[0;34m=\u001b[0m \u001b[0mpath\u001b[0m \u001b[0;34m+\u001b[0m \u001b[0;34m\"/cifar-10-batches-py/\"\u001b[0m\u001b[0;34m\u001b[0m\u001b[0;34m\u001b[0m\u001b[0m\n\u001b[0m\u001b[1;32m      7\u001b[0m \u001b[0mprint\u001b[0m\u001b[0;34m(\u001b[0m\u001b[0mos\u001b[0m\u001b[0;34m.\u001b[0m\u001b[0mlistdir\u001b[0m\u001b[0;34m(\u001b[0m\u001b[0mpath\u001b[0m\u001b[0;34m)\u001b[0m\u001b[0;34m)\u001b[0m\u001b[0;34m\u001b[0m\u001b[0;34m\u001b[0m\u001b[0m\n\u001b[1;32m      8\u001b[0m \u001b[0;34m\u001b[0m\u001b[0m\n",
            "\u001b[0;31mTypeError\u001b[0m: unsupported operand type(s) for +: 'NoneType' and 'str'"
          ]
        }
      ]
    },
    {
      "cell_type": "code",
      "metadata": {
        "id": "C4xWeBlQfumn",
        "colab_type": "code",
        "outputId": "8ec60b8c-b1c5-4170-9246-0c00e807f1ae",
        "colab": {
          "base_uri": "https://localhost:8080/",
          "height": 70
        }
      },
      "source": [
        "import numpy as np\n",
        "import pickle\n",
        "import os\n",
        "from keras.utils import np_utils\n",
        "\n",
        "\n",
        "print(\"files present in that path\",os.listdir(path), sep = \"\\n\", end=\"\\n\\n\")\n",
        "\n",
        "def unpickle(file):\n",
        "    with open(file, 'rb') as fo:\n",
        "        dict = pickle.load(fo, encoding = \"latin1\")\n",
        "    return dict\n",
        "\n",
        "imgs = []\n",
        "labels = []\n",
        "for file in os.listdir(path):\n",
        "    if file.split(\"_\")[0] == \"data\":\n",
        "        file = unpickle(path + file)\n",
        "        imgs.extend(file[\"data\"].reshape(10000,32,32,3)/255.0)\n",
        "        labels.extend(file[\"labels\"])\n",
        "        "
      ],
      "execution_count": 0,
      "outputs": [
        {
          "output_type": "stream",
          "text": [
            "files present in that path\n",
            "['.config', 'drive', 'sample_data']\n",
            "\n"
          ],
          "name": "stdout"
        }
      ]
    },
    {
      "cell_type": "code",
      "metadata": {
        "id": "6OFEbbgjhudr",
        "colab_type": "code",
        "colab": {}
      },
      "source": [
        ""
      ],
      "execution_count": 0,
      "outputs": []
    },
    {
      "cell_type": "markdown",
      "metadata": {
        "id": "LvfEdIzXfumu",
        "colab_type": "text"
      },
      "source": [
        "### The above code is used for unpickling the dataset\n",
        "\n",
        "### The below code is used to reshape the arrays"
      ]
    },
    {
      "cell_type": "code",
      "metadata": {
        "id": "DXat2EUvfumw",
        "colab_type": "code",
        "outputId": "6c562999-4506-4ea8-bcde-3f86b866551d",
        "colab": {
          "base_uri": "https://localhost:8080/",
          "height": 50
        }
      },
      "source": [
        "        \n",
        "imgs = np.array(imgs)\n",
        "imgs = imgs-0.5\n",
        "labels = np.array(labels)\n",
        "print(\"shape of the input images\", imgs.shape, sep =\"\\n\")\n",
        "imgs = imgs.reshape(50000,32,32,3)\n",
        "labels = labels.reshape(50000,1)"
      ],
      "execution_count": 0,
      "outputs": [
        {
          "output_type": "stream",
          "text": [
            "shape of the input images\n",
            "(50000, 32, 32, 3)\n"
          ],
          "name": "stdout"
        }
      ]
    },
    {
      "cell_type": "markdown",
      "metadata": {
        "id": "kazOfeCWfum3",
        "colab_type": "text"
      },
      "source": [
        "## converting the labels into categorical format"
      ]
    },
    {
      "cell_type": "code",
      "metadata": {
        "id": "dpppPobWfum5",
        "colab_type": "code",
        "outputId": "91184859-8264-49e7-a173-cb4a620271d8",
        "colab": {
          "base_uri": "https://localhost:8080/",
          "height": 100
        }
      },
      "source": [
        "print(\"shape of the labels - sparse categorical format\",labels.shape, sep = \"\\n\")\n",
        "labels = np_utils.to_categorical(labels,10)\n",
        "print(\"shape of the labels - categorical format\",labels.shape, sep=\"\\n\", end=\"\\n\\n\")"
      ],
      "execution_count": 0,
      "outputs": [
        {
          "output_type": "stream",
          "text": [
            "shape of the labels - sparse categorical format\n",
            "(50000, 1)\n",
            "shape of the labels - categorical format\n",
            "(50000, 10)\n",
            "\n"
          ],
          "name": "stdout"
        }
      ]
    },
    {
      "cell_type": "code",
      "metadata": {
        "id": "L2uLF1QnfunA",
        "colab_type": "code",
        "outputId": "1dcbc052-36c8-436b-e0d4-e8ce5cc19608",
        "colab": {
          "base_uri": "https://localhost:8080/",
          "height": 83
        }
      },
      "source": [
        "print(\"sample labels\",labels[:3], sep = \"\\n\")"
      ],
      "execution_count": 0,
      "outputs": [
        {
          "output_type": "stream",
          "text": [
            "sample labels\n",
            "[[0. 0. 0. 0. 0. 0. 1. 0. 0. 0.]\n",
            " [0. 0. 0. 0. 0. 0. 0. 0. 0. 1.]\n",
            " [0. 0. 0. 0. 0. 0. 0. 0. 0. 1.]]\n"
          ],
          "name": "stdout"
        }
      ]
    },
    {
      "cell_type": "markdown",
      "metadata": {
        "id": "lJ79tswmfunI",
        "colab_type": "text"
      },
      "source": [
        "## Creating the model\n",
        "\n",
        "\n"
      ]
    },
    {
      "cell_type": "code",
      "metadata": {
        "id": "BnTEMh36funL",
        "colab_type": "code",
        "outputId": "a42de3a9-57f1-4ff9-d6cc-d0aa680da1b9",
        "colab": {}
      },
      "source": [
        "import keras\n",
        "from keras.layers import Dense, Conv2D, Flatten\n",
        "from keras.activations import relu, sigmoid\n",
        "from keras.optimizers import Adam\n",
        "from keras.models import Sequential\n",
        "from keras.layers import MaxPooling2D\n",
        "\n",
        "def conv(model, filters, kernel, stride):\n",
        "    model.add(Conv2D(filters, kernel_size = kernel, strides = stride, activation = \"relu\"))\n",
        "    \n",
        "model = Sequential()\n",
        "\n",
        "\n",
        "model.add(Conv2D(16, kernel_size = (3,3), strides = 1, activation = \"relu\", input_shape = (32,32,3)))\n",
        "\n",
        "conv(model, 32, (3,3), 1)\n",
        "model.add(MaxPooling2D(1,1))\n",
        "\n",
        "conv(model, 64, (3,3), 1)\n",
        "model.add(MaxPooling2D(1,1))\n",
        "\n",
        "model.add(Flatten())\n",
        "\n",
        "model.add(Dense(100, activation = \"relu\"))\n",
        "\n",
        "model.add(Dense(10, activation = \"softmax\"))\n",
        "\n",
        "model.compile(Adam(), metrics = [\"accuracy\"], loss = \"categorical_crossentropy\")\n",
        "model.summary()\n",
        "\n"
      ],
      "execution_count": 0,
      "outputs": [
        {
          "output_type": "stream",
          "text": [
            "WARNING: Logging before flag parsing goes to stderr.\n",
            "W0206 21:56:33.812302  1332 deprecation_wrapper.py:119] From c:\\users\\asus\\appdata\\local\\programs\\python\\python36\\lib\\site-packages\\keras\\backend\\tensorflow_backend.py:4070: The name tf.nn.max_pool is deprecated. Please use tf.nn.max_pool2d instead.\n",
            "\n"
          ],
          "name": "stderr"
        },
        {
          "output_type": "stream",
          "text": [
            "Model: \"sequential_2\"\n",
            "_________________________________________________________________\n",
            "Layer (type)                 Output Shape              Param #   \n",
            "=================================================================\n",
            "conv2d_3 (Conv2D)            (None, 30, 30, 16)        448       \n",
            "_________________________________________________________________\n",
            "conv2d_4 (Conv2D)            (None, 28, 28, 32)        4640      \n",
            "_________________________________________________________________\n",
            "max_pooling2d_1 (MaxPooling2 (None, 28, 28, 32)        0         \n",
            "_________________________________________________________________\n",
            "conv2d_5 (Conv2D)            (None, 26, 26, 64)        18496     \n",
            "_________________________________________________________________\n",
            "max_pooling2d_2 (MaxPooling2 (None, 26, 26, 64)        0         \n",
            "_________________________________________________________________\n",
            "flatten_1 (Flatten)          (None, 43264)             0         \n",
            "_________________________________________________________________\n",
            "dense_1 (Dense)              (None, 100)               4326500   \n",
            "_________________________________________________________________\n",
            "dense_2 (Dense)              (None, 10)                1010      \n",
            "=================================================================\n",
            "Total params: 4,351,094\n",
            "Trainable params: 4,351,094\n",
            "Non-trainable params: 0\n",
            "_________________________________________________________________\n"
          ],
          "name": "stdout"
        }
      ]
    },
    {
      "cell_type": "code",
      "metadata": {
        "id": "WwZ9XnH5funX",
        "colab_type": "code",
        "outputId": "6a72ad5a-cefd-4a9d-effe-6fcbb44e838b",
        "colab": {}
      },
      "source": [
        "stats = model.fit(imgs[:45000], labels[:45000], validation_data = (imgs[45000:], labels[45000:]), epochs = 20, verbose = 2, batch_size = 1000, shuffle = True)"
      ],
      "execution_count": 0,
      "outputs": [
        {
          "output_type": "stream",
          "text": [
            "W0206 21:56:39.571358  1332 deprecation_wrapper.py:119] From c:\\users\\asus\\appdata\\local\\programs\\python\\python36\\lib\\site-packages\\keras\\backend\\tensorflow_backend.py:422: The name tf.global_variables is deprecated. Please use tf.compat.v1.global_variables instead.\n",
            "\n"
          ],
          "name": "stderr"
        },
        {
          "output_type": "stream",
          "text": [
            "Train on 45000 samples, validate on 5000 samples\n",
            "Epoch 1/20\n",
            " - 8s - loss: 1.7547 - accuracy: 0.3805 - val_loss: 1.4733 - val_accuracy: 0.4786\n",
            "Epoch 2/20\n",
            " - 6s - loss: 1.3746 - accuracy: 0.5202 - val_loss: 1.3244 - val_accuracy: 0.5330\n",
            "Epoch 3/20\n",
            " - 6s - loss: 1.2353 - accuracy: 0.5695 - val_loss: 1.2344 - val_accuracy: 0.5614\n",
            "Epoch 4/20\n",
            " - 6s - loss: 1.1064 - accuracy: 0.6166 - val_loss: 1.1732 - val_accuracy: 0.5924\n",
            "Epoch 5/20\n",
            " - 6s - loss: 1.0092 - accuracy: 0.6536 - val_loss: 1.1350 - val_accuracy: 0.6006\n",
            "Epoch 6/20\n",
            " - 6s - loss: 0.9241 - accuracy: 0.6869 - val_loss: 1.0815 - val_accuracy: 0.6320\n",
            "Epoch 7/20\n",
            " - 6s - loss: 0.8272 - accuracy: 0.7201 - val_loss: 1.0619 - val_accuracy: 0.6354\n",
            "Epoch 8/20\n",
            " - 6s - loss: 0.7444 - accuracy: 0.7502 - val_loss: 1.0715 - val_accuracy: 0.6350\n",
            "Epoch 9/20\n",
            " - 6s - loss: 0.6778 - accuracy: 0.7720 - val_loss: 1.0866 - val_accuracy: 0.6350\n",
            "Epoch 10/20\n",
            " - 6s - loss: 0.5996 - accuracy: 0.8026 - val_loss: 1.0949 - val_accuracy: 0.6370\n",
            "Epoch 11/20\n",
            " - 6s - loss: 0.5182 - accuracy: 0.8341 - val_loss: 1.1313 - val_accuracy: 0.6408\n",
            "Epoch 12/20\n",
            " - 6s - loss: 0.4395 - accuracy: 0.8614 - val_loss: 1.1713 - val_accuracy: 0.6334\n",
            "Epoch 13/20\n",
            " - 6s - loss: 0.3757 - accuracy: 0.8847 - val_loss: 1.2200 - val_accuracy: 0.6250\n",
            "Epoch 14/20\n",
            " - 6s - loss: 0.3103 - accuracy: 0.9094 - val_loss: 1.2743 - val_accuracy: 0.6276\n",
            "Epoch 15/20\n",
            " - 6s - loss: 0.2564 - accuracy: 0.9265 - val_loss: 1.3040 - val_accuracy: 0.6278\n",
            "Epoch 16/20\n",
            " - 6s - loss: 0.2044 - accuracy: 0.9455 - val_loss: 1.4546 - val_accuracy: 0.6276\n",
            "Epoch 17/20\n",
            " - 6s - loss: 0.1499 - accuracy: 0.9661 - val_loss: 1.5019 - val_accuracy: 0.6324\n",
            "Epoch 18/20\n",
            " - 6s - loss: 0.1169 - accuracy: 0.9756 - val_loss: 1.5409 - val_accuracy: 0.6342\n",
            "Epoch 19/20\n",
            " - 6s - loss: 0.0988 - accuracy: 0.9804 - val_loss: 1.6219 - val_accuracy: 0.6298\n",
            "Epoch 20/20\n",
            " - 6s - loss: 0.0711 - accuracy: 0.9876 - val_loss: 1.7238 - val_accuracy: 0.6266\n"
          ],
          "name": "stdout"
        }
      ]
    },
    {
      "cell_type": "markdown",
      "metadata": {
        "id": "mNP34Kt8fund",
        "colab_type": "text"
      },
      "source": [
        "# error analysis:\n",
        "### loss high and val_loss high = underfitting\n",
        "### loss low and val_loss high = overfitting\n",
        "### loss low and val_loss low = good job:)\n",
        "\n",
        "<img src=\"overfit.png\" alt=\"Alt text that describes the graphic\" title=\"Title text\" />\n",
        "\n"
      ]
    },
    {
      "cell_type": "markdown",
      "metadata": {
        "id": "3EBhE3byfung",
        "colab_type": "text"
      },
      "source": [
        "## To check the performance of the model:"
      ]
    },
    {
      "cell_type": "code",
      "metadata": {
        "id": "qivty8SIfuni",
        "colab_type": "code",
        "outputId": "5e9802a9-2a93-4709-ecb5-9d723f2c7f1a",
        "colab": {}
      },
      "source": [
        "import matplotlib.pyplot as plt\n",
        "\n",
        "plt.subplot(411)\n",
        "plt.plot(stats.history[\"accuracy\"])\n",
        "plt.title(\"accuracy\")\n",
        "\n",
        "plt.subplot(412)\n",
        "plt.plot(stats.history[\"val_accuracy\"])\n",
        "plt.title(\"validation accuracy\")\n",
        "\n",
        "plt.subplot(413)\n",
        "plt.plot(stats.history[\"loss\"])\n",
        "plt.title(\"loss\")\n",
        "\n",
        "plt.subplot(414)\n",
        "plt.plot(stats.history[\"val_loss\"])\n",
        "plt.title(\"validation loss\")"
      ],
      "execution_count": 0,
      "outputs": [
        {
          "output_type": "execute_result",
          "data": {
            "text/plain": [
              "Text(0.5, 1.0, 'validation loss')"
            ]
          },
          "metadata": {
            "tags": []
          },
          "execution_count": 13
        },
        {
          "output_type": "display_data",
          "data": {
            "image/png": "[encoded data removed]",
            "text/plain": [
              "<Figure size 432x288 with 4 Axes>"
            ]
          },
          "metadata": {
            "tags": [],
            "needs_background": "light"
          }
        }
      ]
    },
    {
      "cell_type": "code",
      "metadata": {
        "id": "St4uWDIpfuno",
        "colab_type": "code",
        "outputId": "e8360498-441f-434e-aa0c-74e28554158b",
        "colab": {}
      },
      "source": [
        "import keras\n",
        "from keras.layers import Dense, Dropout, BatchNormalization, Conv2D, MaxPooling2D, AveragePooling2D, Flatten, GlobalAveragePooling2D\n",
        "from keras.activations import relu, sigmoid\n",
        "from keras.optimizers import Adam, SGD\n",
        "from keras.models import Sequential\n",
        "\n",
        "model = Sequential()\n",
        "\n",
        "model.add(Conv2D(16, kernel_size = (3,3), strides = 1, activation = \"relu\", padding = \"same\", input_shape = (32,32,3)))\n",
        "model.add(Conv2D(16, kernel_size = (3,3), strides = 1, activation = \"relu\", padding = \"same\"))\n",
        "model.add(MaxPooling2D(2,2))\n",
        "\n",
        "model.add(Dropout(0.3))\n",
        "\n",
        "model.add(Conv2D(32, kernel_size = (3,3), strides = 1, activation = \"relu\", padding=\"same\"))\n",
        "model.add(Conv2D(64, kernel_size = (3,3), strides = 1, activation = \"relu\", padding= \"valid\"))\n",
        "model.add(MaxPooling2D(2,2))\n",
        "\n",
        "model.add(Dropout(0.3))\n",
        "\n",
        "model.add(Flatten())\n",
        "\n",
        "model.add(Dense(256, activation = \"relu\"))\n",
        "model.add(Dropout(0.3))\n",
        "\n",
        "model.add(Dense(10, activation = \"softmax\"))\n",
        "\n",
        "model.compile(Adam(lr=0.005), metrics = [\"acc\"], loss = \"categorical_crossentropy\")\n",
        "\n",
        "model.summary()\n"
      ],
      "execution_count": 0,
      "outputs": [
        {
          "output_type": "stream",
          "text": [
            "Model: \"sequential_5\"\n",
            "_________________________________________________________________\n",
            "Layer (type)                 Output Shape              Param #   \n",
            "=================================================================\n",
            "conv2d_14 (Conv2D)           (None, 32, 32, 16)        448       \n",
            "_________________________________________________________________\n",
            "conv2d_15 (Conv2D)           (None, 32, 32, 16)        2320      \n",
            "_________________________________________________________________\n",
            "max_pooling2d_7 (MaxPooling2 (None, 16, 16, 16)        0         \n",
            "_________________________________________________________________\n",
            "dropout_7 (Dropout)          (None, 16, 16, 16)        0         \n",
            "_________________________________________________________________\n",
            "conv2d_16 (Conv2D)           (None, 16, 16, 32)        4640      \n",
            "_________________________________________________________________\n",
            "conv2d_17 (Conv2D)           (None, 14, 14, 64)        18496     \n",
            "_________________________________________________________________\n",
            "max_pooling2d_8 (MaxPooling2 (None, 7, 7, 64)          0         \n",
            "_________________________________________________________________\n",
            "dropout_8 (Dropout)          (None, 7, 7, 64)          0         \n",
            "_________________________________________________________________\n",
            "flatten_4 (Flatten)          (None, 3136)              0         \n",
            "_________________________________________________________________\n",
            "dense_7 (Dense)              (None, 256)               803072    \n",
            "_________________________________________________________________\n",
            "dropout_9 (Dropout)          (None, 256)               0         \n",
            "_________________________________________________________________\n",
            "dense_8 (Dense)              (None, 10)                2570      \n",
            "=================================================================\n",
            "Total params: 831,546\n",
            "Trainable params: 831,546\n",
            "Non-trainable params: 0\n",
            "_________________________________________________________________\n"
          ],
          "name": "stdout"
        }
      ]
    },
    {
      "cell_type": "code",
      "metadata": {
        "id": "ptZpUpexfunv",
        "colab_type": "code",
        "outputId": "f77f64d5-ff32-410e-964c-933f0f34c9fa",
        "colab": {}
      },
      "source": [
        "stats = model.fit(imgs[:45000], labels[:45000], validation_data = (imgs[45000:], labels[45000:]), epochs = 20, verbose = 2, batch_size = 1000, shuffle = True)"
      ],
      "execution_count": 0,
      "outputs": [
        {
          "output_type": "stream",
          "text": [
            "Train on 45000 samples, validate on 5000 samples\n",
            "Epoch 1/20\n",
            " - 4s - loss: 2.0162 - acc: 0.2621 - val_loss: 1.7485 - val_acc: 0.3684\n",
            "Epoch 2/20\n",
            " - 4s - loss: 1.6579 - acc: 0.4002 - val_loss: 1.4955 - val_acc: 0.4494\n",
            "Epoch 3/20\n",
            " - 4s - loss: 1.5404 - acc: 0.4462 - val_loss: 1.4291 - val_acc: 0.4764\n",
            "Epoch 4/20\n",
            " - 4s - loss: 1.4482 - acc: 0.4798 - val_loss: 1.3025 - val_acc: 0.5230\n",
            "Epoch 5/20\n",
            " - 4s - loss: 1.3855 - acc: 0.5022 - val_loss: 1.2756 - val_acc: 0.5396\n",
            "Epoch 6/20\n",
            " - 4s - loss: 1.3332 - acc: 0.5228 - val_loss: 1.2130 - val_acc: 0.5602\n",
            "Epoch 7/20\n",
            " - 4s - loss: 1.2963 - acc: 0.5399 - val_loss: 1.1572 - val_acc: 0.5822\n",
            "Epoch 8/20\n",
            " - 4s - loss: 1.2629 - acc: 0.5508 - val_loss: 1.1495 - val_acc: 0.5900\n",
            "Epoch 9/20\n",
            " - 4s - loss: 1.2323 - acc: 0.5624 - val_loss: 1.1486 - val_acc: 0.5858\n",
            "Epoch 10/20\n",
            " - 4s - loss: 1.2140 - acc: 0.5708 - val_loss: 1.1162 - val_acc: 0.5980\n",
            "Epoch 11/20\n",
            " - 4s - loss: 1.1934 - acc: 0.5764 - val_loss: 1.1076 - val_acc: 0.6008\n",
            "Epoch 12/20\n",
            " - 4s - loss: 1.1736 - acc: 0.5826 - val_loss: 1.0585 - val_acc: 0.6238\n",
            "Epoch 13/20\n",
            " - 4s - loss: 1.1631 - acc: 0.5846 - val_loss: 1.0568 - val_acc: 0.6214\n",
            "Epoch 14/20\n",
            " - 4s - loss: 1.1405 - acc: 0.5930 - val_loss: 1.0552 - val_acc: 0.6200\n",
            "Epoch 15/20\n",
            " - 4s - loss: 1.1258 - acc: 0.6008 - val_loss: 1.0245 - val_acc: 0.6400\n",
            "Epoch 16/20\n",
            " - 4s - loss: 1.1143 - acc: 0.6058 - val_loss: 1.0331 - val_acc: 0.6382\n",
            "Epoch 17/20\n",
            " - 4s - loss: 1.0971 - acc: 0.6097 - val_loss: 1.0356 - val_acc: 0.6348\n",
            "Epoch 18/20\n",
            " - 4s - loss: 1.0946 - acc: 0.6083 - val_loss: 1.0375 - val_acc: 0.6364\n",
            "Epoch 19/20\n",
            " - 4s - loss: 1.0928 - acc: 0.6120 - val_loss: 1.0332 - val_acc: 0.6338\n",
            "Epoch 20/20\n",
            " - 4s - loss: 1.0755 - acc: 0.6167 - val_loss: 1.0245 - val_acc: 0.6410\n"
          ],
          "name": "stdout"
        }
      ]
    },
    {
      "cell_type": "code",
      "metadata": {
        "id": "tT1076LOfun3",
        "colab_type": "code",
        "outputId": "5392cfa6-409a-4bce-82ad-911cc4f27d4a",
        "colab": {}
      },
      "source": [
        "import matplotlib.pyplot as plt\n",
        "\n",
        "plt.subplot(411)\n",
        "plt.plot(stats.history[\"acc\"])\n",
        "\n",
        "plt.subplot(412)\n",
        "plt.plot(stats.history[\"val_acc\"])\n",
        "\n",
        "plt.subplot(413)\n",
        "plt.plot(stats.history[\"loss\"])   \n",
        "\n",
        "plt.subplot(414)\n",
        "plt.plot(stats.history[\"val_loss\"])"
      ],
      "execution_count": 0,
      "outputs": [
        {
          "output_type": "execute_result",
          "data": {
            "text/plain": [
              "[<matplotlib.lines.Line2D at 0x1f9a406aba8>]"
            ]
          },
          "metadata": {
            "tags": []
          },
          "execution_count": 17
        },
        {
          "output_type": "display_data",
          "data": {
            "image/png": "[encoded data removed]",
            "text/plain": [
              "<Figure size 432x288 with 4 Axes>"
            ]
          },
          "metadata": {
            "tags": [],
            "needs_background": "light"
          }
        }
      ]
    },
    {
      "cell_type": "code",
      "metadata": {
        "id": "xBKVYJgAfun9",
        "colab_type": "code",
        "outputId": "f3df4a7e-f0e7-457b-f871-d63394224fe1",
        "colab": {}
      },
      "source": [
        "model.evaluate"
      ],
      "execution_count": 0,
      "outputs": [
        {
          "output_type": "execute_result",
          "data": {
            "text/plain": [
              "<bound method Model.evaluate of <keras.engine.sequential.Sequential object at 0x000001F9A34FAFD0>>"
            ]
          },
          "metadata": {
            "tags": []
          },
          "execution_count": 18
        }
      ]
    },
    {
      "cell_type": "markdown",
      "metadata": {
        "id": "apwkEggVfuoE",
        "colab_type": "text"
      },
      "source": [
        "## What increases the training speed of the neural netowrk?\n",
        "\n",
        "- batch size\n",
        "- epochs\n",
        "- number of parameters\n",
        "- training data size"
      ]
    },
    {
      "cell_type": "code",
      "metadata": {
        "id": "DBMksaeVfuoG",
        "colab_type": "code",
        "outputId": "f8e0a645-4212-4584-fb22-6c32e6d66730",
        "colab": {
          "base_uri": "https://localhost:8080/",
          "height": 227
        }
      },
      "source": [
        "from keras import regularizers\n",
        "from keras.layers import Activation\n",
        "from keras.losses import categorical_crossentropy\n",
        "\n",
        "\n",
        "weight_decay = 2e-4\n",
        "num_classes = 10\n",
        "\n",
        "model = Sequential()\n",
        "model.add(Conv2D(32, (3,3), padding='same', kernel_regularizer=regularizers.l2(weight_decay), input_shape=(32,32,3)))\n",
        "model.add(Activation('elu'))\n",
        "model.add(BatchNormalization())\n",
        "model.add(Conv2D(32, (3,3), padding='same', kernel_regularizer=regularizers.l2(weight_decay)))\n",
        "model.add(Activation('elu'))\n",
        "model.add(BatchNormalization())\n",
        "model.add(MaxPooling2D(pool_size=(2,2)))\n",
        "model.add(Dropout(0.2))\n",
        " \n",
        "model.add(Conv2D(64, (3,3), padding='same', kernel_regularizer=regularizers.l2(weight_decay)))\n",
        "model.add(Activation('elu'))\n",
        "model.add(BatchNormalization())\n",
        "model.add(Conv2D(64, (3,3), padding='same', kernel_regularizer=regularizers.l2(weight_decay)))\n",
        "model.add(Activation('elu'))\n",
        "model.add(BatchNormalization())\n",
        "model.add(MaxPooling2D(pool_size=(2,2)))\n",
        "model.add(Dropout(0.3))\n",
        " \n",
        "model.add(Conv2D(128, (3,3), padding='same', kernel_regularizer=regularizers.l2(weight_decay)))\n",
        "model.add(Activation('elu'))\n",
        "model.add(BatchNormalization())\n",
        "model.add(Conv2D(128, (3,3), padding='same', kernel_regularizer= regularizers.l2(weight_decay)))\n",
        "model.add(Activation('elu'))\n",
        "model.add(BatchNormalization())\n",
        "model.add(MaxPooling2D(pool_size=(2,2)))\n",
        "model.add(Dropout(0.4))\n",
        " \n",
        "model.add(Flatten())\n",
        "model.add(Dense(num_classes, activation='softmax'))\n",
        "\n",
        "model.summary()\n",
        "\n",
        "stats = model.compile(Adam(), loss = \"categorical_crossentropy\", metrics = [\"acc\"])"
      ],
      "execution_count": 0,
      "outputs": [
        {
          "output_type": "error",
          "ename": "NameError",
          "evalue": "ignored",
          "traceback": [
            "\u001b[0;31m---------------------------------------------------------------------------\u001b[0m",
            "\u001b[0;31mNameError\u001b[0m                                 Traceback (most recent call last)",
            "\u001b[0;32m<ipython-input-24-3f643b727770>\u001b[0m in \u001b[0;36m<module>\u001b[0;34m()\u001b[0m\n\u001b[1;32m      8\u001b[0m \u001b[0;34m\u001b[0m\u001b[0m\n\u001b[1;32m      9\u001b[0m \u001b[0mmodel\u001b[0m \u001b[0;34m=\u001b[0m \u001b[0mSequential\u001b[0m\u001b[0;34m(\u001b[0m\u001b[0;34m)\u001b[0m\u001b[0;34m\u001b[0m\u001b[0;34m\u001b[0m\u001b[0m\n\u001b[0;32m---> 10\u001b[0;31m \u001b[0mmodel\u001b[0m\u001b[0;34m.\u001b[0m\u001b[0madd\u001b[0m\u001b[0;34m(\u001b[0m\u001b[0mConv2D\u001b[0m\u001b[0;34m(\u001b[0m\u001b[0;36m32\u001b[0m\u001b[0;34m,\u001b[0m \u001b[0;34m(\u001b[0m\u001b[0;36m3\u001b[0m\u001b[0;34m,\u001b[0m\u001b[0;36m3\u001b[0m\u001b[0;34m)\u001b[0m\u001b[0;34m,\u001b[0m \u001b[0mpadding\u001b[0m\u001b[0;34m=\u001b[0m\u001b[0;34m'same'\u001b[0m\u001b[0;34m,\u001b[0m \u001b[0mkernel_regularizer\u001b[0m\u001b[0;34m=\u001b[0m\u001b[0mregularizers\u001b[0m\u001b[0;34m.\u001b[0m\u001b[0ml2\u001b[0m\u001b[0;34m(\u001b[0m\u001b[0mweight_decay\u001b[0m\u001b[0;34m)\u001b[0m\u001b[0;34m,\u001b[0m \u001b[0minput_shape\u001b[0m\u001b[0;34m=\u001b[0m\u001b[0;34m(\u001b[0m\u001b[0;36m32\u001b[0m\u001b[0;34m,\u001b[0m\u001b[0;36m32\u001b[0m\u001b[0;34m,\u001b[0m\u001b[0;36m3\u001b[0m\u001b[0;34m)\u001b[0m\u001b[0;34m)\u001b[0m\u001b[0;34m)\u001b[0m\u001b[0;34m\u001b[0m\u001b[0;34m\u001b[0m\u001b[0m\n\u001b[0m\u001b[1;32m     11\u001b[0m \u001b[0mmodel\u001b[0m\u001b[0;34m.\u001b[0m\u001b[0madd\u001b[0m\u001b[0;34m(\u001b[0m\u001b[0mActivation\u001b[0m\u001b[0;34m(\u001b[0m\u001b[0;34m'elu'\u001b[0m\u001b[0;34m)\u001b[0m\u001b[0;34m)\u001b[0m\u001b[0;34m\u001b[0m\u001b[0;34m\u001b[0m\u001b[0m\n\u001b[1;32m     12\u001b[0m \u001b[0mmodel\u001b[0m\u001b[0;34m.\u001b[0m\u001b[0madd\u001b[0m\u001b[0;34m(\u001b[0m\u001b[0mBatchNormalization\u001b[0m\u001b[0;34m(\u001b[0m\u001b[0;34m)\u001b[0m\u001b[0;34m)\u001b[0m\u001b[0;34m\u001b[0m\u001b[0;34m\u001b[0m\u001b[0m\n",
            "\u001b[0;31mNameError\u001b[0m: name 'Conv2D' is not defined"
          ]
        }
      ]
    },
    {
      "cell_type": "code",
      "metadata": {
        "id": "5xsfN0C3fuoP",
        "colab_type": "code",
        "outputId": "f29c5482-d6b6-4e01-d68d-6714359ca136",
        "colab": {
          "base_uri": "https://localhost:8080/",
          "height": 355
        }
      },
      "source": [
        "from keras.preprocessing.image import ImageDataGenerator\n",
        "from keras.callbacks import LearningRateScheduler\n",
        "\n",
        "\n",
        "datagen = ImageDataGenerator(\n",
        "    rotation_range=15,\n",
        "    width_shift_range=0.1,\n",
        "    height_shift_range=0.1,\n",
        "    horizontal_flip=True,\n",
        "    )\n",
        "datagen.fit(imgs[:45000])\n",
        "\n",
        "batch_size= 100\n",
        "\n",
        "def lr_schedule(epoch):\n",
        "    lrate = 0.001\n",
        "    if epoch > 75:\n",
        "        lrate = 0.0005\n",
        "    if epoch > 100:\n",
        "        lrate = 0.0003\n",
        "    return lrate\n",
        "\n",
        "status = model.fit_generator(datagen.flow(imgs[:45000], labels[:45000], batch_size=batch_size),\\\n",
        "                    steps_per_epoch=imgs.shape[0] // batch_size,epochs=125,\\\n",
        "                    verbose=2,validation_data=(imgs[45000:],labels[45000:]),callbacks=[LearningRateScheduler(lr_schedule)])"
      ],
      "execution_count": 0,
      "outputs": [
        {
          "output_type": "error",
          "ename": "ValueError",
          "evalue": "ignored",
          "traceback": [
            "\u001b[0;31m---------------------------------------------------------------------------\u001b[0m",
            "\u001b[0;31mValueError\u001b[0m                                Traceback (most recent call last)",
            "\u001b[0;32m<ipython-input-23-adf7a46404a4>\u001b[0m in \u001b[0;36m<module>\u001b[0;34m()\u001b[0m\n\u001b[1;32m     21\u001b[0m     \u001b[0;32mreturn\u001b[0m \u001b[0mlrate\u001b[0m\u001b[0;34m\u001b[0m\u001b[0;34m\u001b[0m\u001b[0m\n\u001b[1;32m     22\u001b[0m \u001b[0;34m\u001b[0m\u001b[0m\n\u001b[0;32m---> 23\u001b[0;31m \u001b[0mstatus\u001b[0m \u001b[0;34m=\u001b[0m \u001b[0mmodel\u001b[0m\u001b[0;34m.\u001b[0m\u001b[0mfit_generator\u001b[0m\u001b[0;34m(\u001b[0m\u001b[0mdatagen\u001b[0m\u001b[0;34m.\u001b[0m\u001b[0mflow\u001b[0m\u001b[0;34m(\u001b[0m\u001b[0mimgs\u001b[0m\u001b[0;34m[\u001b[0m\u001b[0;34m:\u001b[0m\u001b[0;36m45000\u001b[0m\u001b[0;34m]\u001b[0m\u001b[0;34m,\u001b[0m \u001b[0mlabels\u001b[0m\u001b[0;34m[\u001b[0m\u001b[0;34m:\u001b[0m\u001b[0;36m45000\u001b[0m\u001b[0;34m]\u001b[0m\u001b[0;34m,\u001b[0m \u001b[0mbatch_size\u001b[0m\u001b[0;34m=\u001b[0m\u001b[0mbatch_size\u001b[0m\u001b[0;34m)\u001b[0m\u001b[0;34m,\u001b[0m                    \u001b[0msteps_per_epoch\u001b[0m\u001b[0;34m=\u001b[0m\u001b[0mimgs\u001b[0m\u001b[0;34m.\u001b[0m\u001b[0mshape\u001b[0m\u001b[0;34m[\u001b[0m\u001b[0;36m0\u001b[0m\u001b[0;34m]\u001b[0m \u001b[0;34m//\u001b[0m \u001b[0mbatch_size\u001b[0m\u001b[0;34m,\u001b[0m\u001b[0mepochs\u001b[0m\u001b[0;34m=\u001b[0m\u001b[0;36m125\u001b[0m\u001b[0;34m,\u001b[0m                    \u001b[0mverbose\u001b[0m\u001b[0;34m=\u001b[0m\u001b[0;36m2\u001b[0m\u001b[0;34m,\u001b[0m\u001b[0mvalidation_data\u001b[0m\u001b[0;34m=\u001b[0m\u001b[0;34m(\u001b[0m\u001b[0mimgs\u001b[0m\u001b[0;34m[\u001b[0m\u001b[0;36m45000\u001b[0m\u001b[0;34m:\u001b[0m\u001b[0;34m]\u001b[0m\u001b[0;34m,\u001b[0m\u001b[0mlabels\u001b[0m\u001b[0;34m[\u001b[0m\u001b[0;36m45000\u001b[0m\u001b[0;34m:\u001b[0m\u001b[0;34m]\u001b[0m\u001b[0;34m)\u001b[0m\u001b[0;34m,\u001b[0m\u001b[0mcallbacks\u001b[0m\u001b[0;34m=\u001b[0m\u001b[0;34m[\u001b[0m\u001b[0mLearningRateScheduler\u001b[0m\u001b[0;34m(\u001b[0m\u001b[0mlr_schedule\u001b[0m\u001b[0;34m)\u001b[0m\u001b[0;34m]\u001b[0m\u001b[0;34m)\u001b[0m\u001b[0;34m\u001b[0m\u001b[0;34m\u001b[0m\u001b[0m\n\u001b[0m",
            "\u001b[0;32m/usr/local/lib/python3.6/dist-packages/keras/legacy/interfaces.py\u001b[0m in \u001b[0;36mwrapper\u001b[0;34m(*args, **kwargs)\u001b[0m\n\u001b[1;32m     89\u001b[0m                 warnings.warn('Update your `' + object_name + '` call to the ' +\n\u001b[1;32m     90\u001b[0m                               'Keras 2 API: ' + signature, stacklevel=2)\n\u001b[0;32m---> 91\u001b[0;31m             \u001b[0;32mreturn\u001b[0m \u001b[0mfunc\u001b[0m\u001b[0;34m(\u001b[0m\u001b[0;34m*\u001b[0m\u001b[0margs\u001b[0m\u001b[0;34m,\u001b[0m \u001b[0;34m**\u001b[0m\u001b[0mkwargs\u001b[0m\u001b[0;34m)\u001b[0m\u001b[0;34m\u001b[0m\u001b[0;34m\u001b[0m\u001b[0m\n\u001b[0m\u001b[1;32m     92\u001b[0m         \u001b[0mwrapper\u001b[0m\u001b[0;34m.\u001b[0m\u001b[0m_original_function\u001b[0m \u001b[0;34m=\u001b[0m \u001b[0mfunc\u001b[0m\u001b[0;34m\u001b[0m\u001b[0;34m\u001b[0m\u001b[0m\n\u001b[1;32m     93\u001b[0m         \u001b[0;32mreturn\u001b[0m \u001b[0mwrapper\u001b[0m\u001b[0;34m\u001b[0m\u001b[0;34m\u001b[0m\u001b[0m\n",
            "\u001b[0;32m/usr/local/lib/python3.6/dist-packages/keras/engine/training.py\u001b[0m in \u001b[0;36mfit_generator\u001b[0;34m(self, generator, steps_per_epoch, epochs, verbose, callbacks, validation_data, validation_steps, validation_freq, class_weight, max_queue_size, workers, use_multiprocessing, shuffle, initial_epoch)\u001b[0m\n\u001b[1;32m   1656\u001b[0m             \u001b[0muse_multiprocessing\u001b[0m\u001b[0;34m=\u001b[0m\u001b[0muse_multiprocessing\u001b[0m\u001b[0;34m,\u001b[0m\u001b[0;34m\u001b[0m\u001b[0;34m\u001b[0m\u001b[0m\n\u001b[1;32m   1657\u001b[0m             \u001b[0mshuffle\u001b[0m\u001b[0;34m=\u001b[0m\u001b[0mshuffle\u001b[0m\u001b[0;34m,\u001b[0m\u001b[0;34m\u001b[0m\u001b[0;34m\u001b[0m\u001b[0m\n\u001b[0;32m-> 1658\u001b[0;31m             initial_epoch=initial_epoch)\n\u001b[0m\u001b[1;32m   1659\u001b[0m \u001b[0;34m\u001b[0m\u001b[0m\n\u001b[1;32m   1660\u001b[0m     \u001b[0;34m@\u001b[0m\u001b[0minterfaces\u001b[0m\u001b[0;34m.\u001b[0m\u001b[0mlegacy_generator_methods_support\u001b[0m\u001b[0;34m\u001b[0m\u001b[0;34m\u001b[0m\u001b[0m\n",
            "\u001b[0;32m/usr/local/lib/python3.6/dist-packages/keras/engine/training_generator.py\u001b[0m in \u001b[0;36mfit_generator\u001b[0;34m(model, generator, steps_per_epoch, epochs, verbose, callbacks, validation_data, validation_steps, validation_freq, class_weight, max_queue_size, workers, use_multiprocessing, shuffle, initial_epoch)\u001b[0m\n\u001b[1;32m    143\u001b[0m                                      str(validation_data))\n\u001b[1;32m    144\u001b[0m                 val_x, val_y, val_sample_weights = model._standardize_user_data(\n\u001b[0;32m--> 145\u001b[0;31m                     val_x, val_y, val_sample_weight)\n\u001b[0m\u001b[1;32m    146\u001b[0m                 \u001b[0mval_data\u001b[0m \u001b[0;34m=\u001b[0m \u001b[0mval_x\u001b[0m \u001b[0;34m+\u001b[0m \u001b[0mval_y\u001b[0m \u001b[0;34m+\u001b[0m \u001b[0mval_sample_weights\u001b[0m\u001b[0;34m\u001b[0m\u001b[0;34m\u001b[0m\u001b[0m\n\u001b[1;32m    147\u001b[0m                 if model.uses_learning_phase and not isinstance(K.learning_phase(),\n",
            "\u001b[0;32m/usr/local/lib/python3.6/dist-packages/keras/engine/training.py\u001b[0m in \u001b[0;36m_standardize_user_data\u001b[0;34m(self, x, y, sample_weight, class_weight, check_array_lengths, batch_size)\u001b[0m\n\u001b[1;32m    755\u001b[0m             \u001b[0mfeed_input_shapes\u001b[0m\u001b[0;34m,\u001b[0m\u001b[0;34m\u001b[0m\u001b[0;34m\u001b[0m\u001b[0m\n\u001b[1;32m    756\u001b[0m             \u001b[0mcheck_batch_axis\u001b[0m\u001b[0;34m=\u001b[0m\u001b[0;32mFalse\u001b[0m\u001b[0;34m,\u001b[0m  \u001b[0;31m# Don't enforce the batch size.\u001b[0m\u001b[0;34m\u001b[0m\u001b[0;34m\u001b[0m\u001b[0m\n\u001b[0;32m--> 757\u001b[0;31m             exception_prefix='input')\n\u001b[0m\u001b[1;32m    758\u001b[0m \u001b[0;34m\u001b[0m\u001b[0m\n\u001b[1;32m    759\u001b[0m         \u001b[0;32mif\u001b[0m \u001b[0my\u001b[0m \u001b[0;32mis\u001b[0m \u001b[0;32mnot\u001b[0m \u001b[0;32mNone\u001b[0m\u001b[0;34m:\u001b[0m\u001b[0;34m\u001b[0m\u001b[0;34m\u001b[0m\u001b[0m\n",
            "\u001b[0;32m/usr/local/lib/python3.6/dist-packages/keras/engine/training_utils.py\u001b[0m in \u001b[0;36mstandardize_input_data\u001b[0;34m(data, names, shapes, check_batch_axis, exception_prefix)\u001b[0m\n\u001b[1;32m    139\u001b[0m                             \u001b[0;34m': expected '\u001b[0m \u001b[0;34m+\u001b[0m \u001b[0mnames\u001b[0m\u001b[0;34m[\u001b[0m\u001b[0mi\u001b[0m\u001b[0;34m]\u001b[0m \u001b[0;34m+\u001b[0m \u001b[0;34m' to have shape '\u001b[0m \u001b[0;34m+\u001b[0m\u001b[0;34m\u001b[0m\u001b[0;34m\u001b[0m\u001b[0m\n\u001b[1;32m    140\u001b[0m                             \u001b[0mstr\u001b[0m\u001b[0;34m(\u001b[0m\u001b[0mshape\u001b[0m\u001b[0;34m)\u001b[0m \u001b[0;34m+\u001b[0m \u001b[0;34m' but got array with shape '\u001b[0m \u001b[0;34m+\u001b[0m\u001b[0;34m\u001b[0m\u001b[0;34m\u001b[0m\u001b[0m\n\u001b[0;32m--> 141\u001b[0;31m                             str(data_shape))\n\u001b[0m\u001b[1;32m    142\u001b[0m     \u001b[0;32mreturn\u001b[0m \u001b[0mdata\u001b[0m\u001b[0;34m\u001b[0m\u001b[0;34m\u001b[0m\u001b[0m\n\u001b[1;32m    143\u001b[0m \u001b[0;34m\u001b[0m\u001b[0m\n",
            "\u001b[0;31mValueError\u001b[0m: Error when checking input: expected dense_1_input to have shape (28, 28, 1) but got array with shape (32, 32, 3)"
          ]
        }
      ]
    },
    {
      "cell_type": "code",
      "metadata": {
        "id": "9SA0Xy3LfuoZ",
        "colab_type": "code",
        "outputId": "4c2914e7-4ab7-4c3d-b964-0586cdae64c6",
        "colab": {}
      },
      "source": [
        "import matplotlib.pyplot as plt\n",
        "\n",
        "plt.subplot(411)\n",
        "plt.plot(status.history[\"loss\"])\n",
        "plt.title(\"loss\")\n",
        "\n",
        "plt.subplot(412)\n",
        "plt.plot(status.history[\"val_loss\"])\n",
        "plt.title(\"validation loss\")\n",
        "\n",
        "plt.subplot(413)\n",
        "plt.plot(status.history[\"acc\"])\n",
        "plt.title(\"accuracy\")\n",
        "\n",
        "plt.subplot(414)\n",
        "plt.plot(status.history[\"val_acc\"])\n",
        "plt.title(\"validation accurcay\")"
      ],
      "execution_count": 0,
      "outputs": [
        {
          "output_type": "execute_result",
          "data": {
            "text/plain": [
              "Text(0.5, 1.0, 'validation accurcay')"
            ]
          },
          "metadata": {
            "tags": []
          },
          "execution_count": 85
        },
        {
          "output_type": "display_data",
          "data": {
            "image/png": "[encoded data removed]",
            "text/plain": [
              "<Figure size 432x288 with 4 Axes>"
            ]
          },
          "metadata": {
            "tags": [],
            "needs_background": "light"
          }
        }
      ]
    },
    {
      "cell_type": "markdown",
      "metadata": {
        "id": "hZhw5JXAfuoj",
        "colab_type": "text"
      },
      "source": [
        "# moving on to a little challenging dataset\n",
        "\n",
        "This dataset has 120 classes of different breeds of dogs with ~180 images each\n",
        "\n",
        "### Importing the necessary libraries"
      ]
    },
    {
      "cell_type": "code",
      "metadata": {
        "id": "VwoI0chpfuon",
        "colab_type": "code",
        "colab": {}
      },
      "source": [
        "import numpy as np\n",
        "import cv2\n",
        "import os\n",
        "import matplotlib.pyplot as plt"
      ],
      "execution_count": 0,
      "outputs": []
    },
    {
      "cell_type": "markdown",
      "metadata": {
        "id": "k-guEkq8fuov",
        "colab_type": "text"
      },
      "source": [
        "### Getting the dataset ready"
      ]
    },
    {
      "cell_type": "code",
      "metadata": {
        "id": "My_WrTB1fuoy",
        "colab_type": "code",
        "outputId": "cb69d5fd-3775-4724-83a8-3f8d4bd105e0",
        "colab": {
          "base_uri": "https://localhost:8080/",
          "height": 50
        }
      },
      "source": [
        "# Standardize images across the dataset, mean=0, stdev=1\n",
        "from keras.datasets import mnist\n",
        "from keras.preprocessing.image import ImageDataGenerator\n",
        "from matplotlib import pyplot\n",
        "\n",
        "batch_size = 50\n",
        "\n",
        "train_datagen = ImageDataGenerator(\n",
        "        rescale=1./255,\n",
        "        shear_range=0.2,\n",
        "        zoom_range=0.2,\n",
        "        horizontal_flip=True)\n",
        "\n",
        "test_datagen = ImageDataGenerator(rescale=1./255)\n",
        "\n",
        "\n",
        "train_generator = train_datagen.flow_from_directory(\n",
        "         path + \"imgs_clipped_new/train\",  # this is the target directory\n",
        "        target_size=(224, 224),  # all images will be resized to 150x150\n",
        "        batch_size=batch_size,\n",
        "        color_mode = \"grayscale\",\n",
        "        class_mode='categorical')\n",
        "\n",
        "validation_generator = test_datagen.flow_from_directory(\n",
        "        path + \"imgs_clipped_new/valid\",\n",
        "        target_size=(224, 224),\n",
        "        batch_size=batch_size,\n",
        "        color_mode = \"grayscale\",\n",
        "        class_mode='categorical')"
      ],
      "execution_count": 0,
      "outputs": [
        {
          "output_type": "stream",
          "text": [
            "Found 1161 images belonging to 10 classes.\n",
            "Found 371 images belonging to 10 classes.\n"
          ],
          "name": "stdout"
        }
      ]
    },
    {
      "cell_type": "code",
      "metadata": {
        "id": "c__GNdc_fuo-",
        "colab_type": "code",
        "outputId": "170daf94-beb4-4627-a3f7-3a063c2d8056",
        "colab": {}
      },
      "source": [
        "model = Sequential()\n",
        "model.add(Conv2D(32, kernel_size = (3, 3), activation='relu', input_shape=(390, 460, 1)))\n",
        "model.add(MaxPooling2D(pool_size=(2,2)))\n",
        "model.add(BatchNormalization())\n",
        "model.add(Conv2D(64, kernel_size=(3,3), activation='relu'))\n",
        "model.add(MaxPooling2D(pool_size=(2,2)))\n",
        "model.add(BatchNormalization())\n",
        "model.add(Conv2D(64, kernel_size=(3,3), activation='relu'))\n",
        "model.add(MaxPooling2D(pool_size=(2,2)))\n",
        "model.add(BatchNormalization())\n",
        "model.add(Conv2D(96, kernel_size=(3,3), activation='relu'))\n",
        "model.add(MaxPooling2D(pool_size=(2,2)))\n",
        "model.add(BatchNormalization())\n",
        "model.add(Conv2D(96, kernel_size=(3,3), activation='relu'))\n",
        "model.add(MaxPooling2D(pool_size=(2,2)))\n",
        "model.add(BatchNormalization())\n",
        "model.add(Conv2D(32, kernel_size=(3,3), activation='relu'))\n",
        "model.add(MaxPooling2D(pool_size=(2,2)))\n",
        "model.add(BatchNormalization())\n",
        "model.add(Dropout(0.2))\n",
        "# model.add(Flatten())\n",
        "model.add(Dense(128, activation='relu'))\n",
        "model.add(Dense(256, activation = \"relu\"))\n",
        "model.add(Dense(512, activation = \"relu\"))\n",
        "model.add(Dense(128, activation = \"relu\"))\n",
        "\n",
        "model.add(Conv2D(128, kernel_size = (3,3), activation = \"relu\"))\n",
        "\n",
        "model.add(Flatten())\n",
        "\n",
        "model.add(Dense(200, activation = \"relu\"))\n",
        "model.add(Dense(100, activation = \"relu\"))\n",
        "model.add(Dense(10, activation = 'softmax'))\n",
        "\n",
        "model.summary()"
      ],
      "execution_count": 0,
      "outputs": [
        {
          "output_type": "stream",
          "text": [
            "Model: \"sequential_7\"\n",
            "_________________________________________________________________\n",
            "Layer (type)                 Output Shape              Param #   \n",
            "=================================================================\n",
            "conv2d_24 (Conv2D)           (None, 388, 458, 32)      320       \n",
            "_________________________________________________________________\n",
            "max_pooling2d_12 (MaxPooling (None, 194, 229, 32)      0         \n",
            "_________________________________________________________________\n",
            "batch_normalization_7 (Batch (None, 194, 229, 32)      128       \n",
            "_________________________________________________________________\n",
            "conv2d_25 (Conv2D)           (None, 192, 227, 64)      18496     \n",
            "_________________________________________________________________\n",
            "max_pooling2d_13 (MaxPooling (None, 96, 113, 64)       0         \n",
            "_________________________________________________________________\n",
            "batch_normalization_8 (Batch (None, 96, 113, 64)       256       \n",
            "_________________________________________________________________\n",
            "conv2d_26 (Conv2D)           (None, 94, 111, 64)       36928     \n",
            "_________________________________________________________________\n",
            "max_pooling2d_14 (MaxPooling (None, 47, 55, 64)        0         \n",
            "_________________________________________________________________\n",
            "batch_normalization_9 (Batch (None, 47, 55, 64)        256       \n",
            "_________________________________________________________________\n",
            "conv2d_27 (Conv2D)           (None, 45, 53, 96)        55392     \n",
            "_________________________________________________________________\n",
            "max_pooling2d_15 (MaxPooling (None, 22, 26, 96)        0         \n",
            "_________________________________________________________________\n",
            "batch_normalization_10 (Batc (None, 22, 26, 96)        384       \n",
            "_________________________________________________________________\n",
            "conv2d_28 (Conv2D)           (None, 20, 24, 96)        83040     \n",
            "_________________________________________________________________\n",
            "max_pooling2d_16 (MaxPooling (None, 10, 12, 96)        0         \n",
            "_________________________________________________________________\n",
            "batch_normalization_11 (Batc (None, 10, 12, 96)        384       \n",
            "_________________________________________________________________\n",
            "conv2d_29 (Conv2D)           (None, 8, 10, 32)         27680     \n",
            "_________________________________________________________________\n",
            "max_pooling2d_17 (MaxPooling (None, 4, 5, 32)          0         \n",
            "_________________________________________________________________\n",
            "batch_normalization_12 (Batc (None, 4, 5, 32)          128       \n",
            "_________________________________________________________________\n",
            "dropout_13 (Dropout)         (None, 4, 5, 32)          0         \n",
            "_________________________________________________________________\n",
            "dense_10 (Dense)             (None, 4, 5, 128)         4224      \n",
            "_________________________________________________________________\n",
            "dense_11 (Dense)             (None, 4, 5, 256)         33024     \n",
            "_________________________________________________________________\n",
            "dense_12 (Dense)             (None, 4, 5, 512)         131584    \n",
            "_________________________________________________________________\n",
            "dense_13 (Dense)             (None, 4, 5, 128)         65664     \n",
            "_________________________________________________________________\n",
            "conv2d_30 (Conv2D)           (None, 2, 3, 128)         147584    \n",
            "_________________________________________________________________\n",
            "flatten_6 (Flatten)          (None, 768)               0         \n",
            "_________________________________________________________________\n",
            "dense_14 (Dense)             (None, 200)               153800    \n",
            "_________________________________________________________________\n",
            "dense_15 (Dense)             (None, 100)               20100     \n",
            "_________________________________________________________________\n",
            "dense_16 (Dense)             (None, 10)                1010      \n",
            "=================================================================\n",
            "Total params: 780,382\n",
            "Trainable params: 779,614\n",
            "Non-trainable params: 768\n",
            "_________________________________________________________________\n"
          ],
          "name": "stdout"
        }
      ]
    },
    {
      "cell_type": "code",
      "metadata": {
        "id": "CTG4-CtyfupI",
        "colab_type": "code",
        "colab": {}
      },
      "source": [
        "model.compile(Adam(), loss = \"categorical_crossentropy\", metrics = [\"acc\"])\n"
      ],
      "execution_count": 0,
      "outputs": []
    },
    {
      "cell_type": "code",
      "metadata": {
        "id": "Prg5CxkRfupP",
        "colab_type": "code",
        "outputId": "52b9ae4c-1139-4803-9e77-b386c61c2244",
        "colab": {}
      },
      "source": [
        "model.fit_generator(\n",
        "        train_generator,\n",
        "        steps_per_epoch=1,\n",
        "        epochs=20,\n",
        "        validation_data=validation_generator,\n",
        "        validation_steps=1,\n",
        "        verbose = 2)"
      ],
      "execution_count": 0,
      "outputs": [
        {
          "output_type": "stream",
          "text": [
            "Epoch 1/20\n",
            " - 2s - loss: 2.2962 - acc: 0.2200 - val_loss: 2.3023 - val_acc: 0.0800\n",
            "Epoch 2/20\n",
            " - 1s - loss: 2.3467 - acc: 0.0200 - val_loss: 2.3000 - val_acc: 0.1000\n",
            "Epoch 3/20\n",
            " - 1s - loss: 2.2627 - acc: 0.0400 - val_loss: 2.3000 - val_acc: 0.1000\n",
            "Epoch 4/20\n",
            " - 1s - loss: 2.3093 - acc: 0.0800 - val_loss: 2.3008 - val_acc: 0.1600\n",
            "Epoch 5/20\n",
            " - 1s - loss: 2.2828 - acc: 0.1800 - val_loss: 2.3060 - val_acc: 0.0800\n",
            "Epoch 6/20\n",
            " - 1s - loss: 2.2667 - acc: 0.1600 - val_loss: 2.2995 - val_acc: 0.1000\n",
            "Epoch 7/20\n",
            " - 1s - loss: 2.2965 - acc: 0.1200 - val_loss: 2.2954 - val_acc: 0.1800\n",
            "Epoch 8/20\n",
            " - 1s - loss: 2.1631 - acc: 0.3000 - val_loss: 2.3014 - val_acc: 0.1429\n",
            "Epoch 9/20\n",
            " - 1s - loss: 2.2038 - acc: 0.1600 - val_loss: 2.2902 - val_acc: 0.1600\n",
            "Epoch 10/20\n",
            " - 1s - loss: 2.3027 - acc: 0.1400 - val_loss: 2.3040 - val_acc: 0.1200\n",
            "Epoch 11/20\n",
            " - 1s - loss: 2.2195 - acc: 0.2000 - val_loss: 2.3158 - val_acc: 0.1000\n",
            "Epoch 12/20\n",
            " - 1s - loss: 2.0166 - acc: 0.3200 - val_loss: 2.3402 - val_acc: 0.0400\n",
            "Epoch 13/20\n",
            " - 1s - loss: 2.2759 - acc: 0.2000 - val_loss: 2.2559 - val_acc: 0.1800\n",
            "Epoch 14/20\n",
            " - 1s - loss: 2.1076 - acc: 0.2000 - val_loss: 2.2796 - val_acc: 0.1200\n",
            "Epoch 15/20\n",
            " - 1s - loss: 2.1035 - acc: 0.2200 - val_loss: 2.2676 - val_acc: 0.1800\n",
            "Epoch 16/20\n",
            " - 1s - loss: 2.0132 - acc: 0.2800 - val_loss: 2.3453 - val_acc: 0.0476\n",
            "Epoch 17/20\n",
            " - 1s - loss: 2.0903 - acc: 0.2400 - val_loss: 2.2223 - val_acc: 0.1400\n",
            "Epoch 18/20\n",
            " - 1s - loss: 2.3447 - acc: 0.1200 - val_loss: 2.3139 - val_acc: 0.0800\n",
            "Epoch 19/20\n",
            " - 1s - loss: 2.0512 - acc: 0.2800 - val_loss: 2.3520 - val_acc: 0.1200\n",
            "Epoch 20/20\n",
            " - 1s - loss: 2.1676 - acc: 0.3000 - val_loss: 2.3164 - val_acc: 0.1000\n"
          ],
          "name": "stdout"
        },
        {
          "output_type": "execute_result",
          "data": {
            "text/plain": [
              "<keras.callbacks.callbacks.History at 0x1cb9adba128>"
            ]
          },
          "metadata": {
            "tags": []
          },
          "execution_count": 32
        }
      ]
    },
    {
      "cell_type": "markdown",
      "metadata": {
        "id": "0G4j76mWfupX",
        "colab_type": "text"
      },
      "source": [
        "# Transfer Learning"
      ]
    },
    {
      "cell_type": "code",
      "metadata": {
        "id": "-IUhv8D_fupY",
        "colab_type": "code",
        "colab": {}
      },
      "source": [
        "import pandas as pd\n",
        "import numpy as np\n",
        "import os\n",
        "import keras\n",
        "import matplotlib.pyplot as plt\n",
        "from keras.layers import Dense,GlobalAveragePooling2D\n",
        "from keras.applications import MobileNet\n",
        "from keras.preprocessing import image\n",
        "from keras.applications.mobilenet import preprocess_input\n",
        "from keras.preprocessing.image import ImageDataGenerator\n",
        "from keras.models import Model\n",
        "from keras.optimizers import Adam"
      ],
      "execution_count": 0,
      "outputs": []
    },
    {
      "cell_type": "markdown",
      "metadata": {
        "id": "c2X9YMWIfupe",
        "colab_type": "text"
      },
      "source": [
        "## defining our model\n",
        "\n",
        "the mobilenet will has 1000 output classes, we need to eliminate the last layer "
      ]
    },
    {
      "cell_type": "code",
      "metadata": {
        "id": "EdONWN_ffupg",
        "colab_type": "code",
        "outputId": "391ae6b8-5f7a-4505-9a7d-16ecb4b4691e",
        "colab": {
          "base_uri": "https://localhost:8080/",
          "height": 170
        }
      },
      "source": [
        "base_model=MobileNet(weights='imagenet',include_top=False) \n",
        "\n",
        "x=base_model.output\n",
        "x=GlobalAveragePooling2D()(x)\n",
        "x=Dense(1024,activation='relu')(x) \n",
        "x=Dense(1024,activation='relu')(x) \n",
        "x=Dense(512,activation='relu')(x) \n",
        "preds=Dense(10,activation='softmax')(x) \n",
        "\n"
      ],
      "execution_count": 0,
      "outputs": [
        {
          "output_type": "stream",
          "text": [
            "WARNING:tensorflow:From /usr/local/lib/python3.6/dist-packages/keras/backend/tensorflow_backend.py:2041: The name tf.nn.fused_batch_norm is deprecated. Please use tf.compat.v1.nn.fused_batch_norm instead.\n",
            "\n",
            "WARNING:tensorflow:From /usr/local/lib/python3.6/dist-packages/keras/backend/tensorflow_backend.py:148: The name tf.placeholder_with_default is deprecated. Please use tf.compat.v1.placeholder_with_default instead.\n",
            "\n"
          ],
          "name": "stdout"
        },
        {
          "output_type": "stream",
          "text": [
            "/usr/local/lib/python3.6/dist-packages/keras_applications/mobilenet.py:207: UserWarning: `input_shape` is undefined or non-square, or `rows` is not in [128, 160, 192, 224]. Weights for input shape (224, 224) will be loaded as the default.\n",
            "  warnings.warn('`input_shape` is undefined or non-square, '\n"
          ],
          "name": "stderr"
        },
        {
          "output_type": "stream",
          "text": [
            "Downloading data from https://github.com/fchollet/deep-learning-models/releases/download/v0.6/mobilenet_1_0_224_tf_no_top.h5\n",
            "17227776/17225924 [==============================] - 0s 0us/step\n"
          ],
          "name": "stdout"
        }
      ]
    },
    {
      "cell_type": "code",
      "metadata": {
        "id": "C1W2xXvLfupm",
        "colab_type": "code",
        "colab": {}
      },
      "source": [
        "model=Model(inputs=base_model.input,outputs=preds)\n"
      ],
      "execution_count": 0,
      "outputs": []
    },
    {
      "cell_type": "code",
      "metadata": {
        "id": "cmnZcaSTfupu",
        "colab_type": "code",
        "outputId": "a4d483cf-a883-4618-adbc-fe431220347f",
        "colab": {
          "base_uri": "https://localhost:8080/",
          "height": 1000
        }
      },
      "source": [
        "for i,layer in enumerate(model.layers):\n",
        "  print(i,layer.name)"
      ],
      "execution_count": 0,
      "outputs": [
        {
          "output_type": "stream",
          "text": [
            "0 input_1\n",
            "1 conv1_pad\n",
            "2 conv1\n",
            "3 conv1_bn\n",
            "4 conv1_relu\n",
            "5 conv_dw_1\n",
            "6 conv_dw_1_bn\n",
            "7 conv_dw_1_relu\n",
            "8 conv_pw_1\n",
            "9 conv_pw_1_bn\n",
            "10 conv_pw_1_relu\n",
            "11 conv_pad_2\n",
            "12 conv_dw_2\n",
            "13 conv_dw_2_bn\n",
            "14 conv_dw_2_relu\n",
            "15 conv_pw_2\n",
            "16 conv_pw_2_bn\n",
            "17 conv_pw_2_relu\n",
            "18 conv_dw_3\n",
            "19 conv_dw_3_bn\n",
            "20 conv_dw_3_relu\n",
            "21 conv_pw_3\n",
            "22 conv_pw_3_bn\n",
            "23 conv_pw_3_relu\n",
            "24 conv_pad_4\n",
            "25 conv_dw_4\n",
            "26 conv_dw_4_bn\n",
            "27 conv_dw_4_relu\n",
            "28 conv_pw_4\n",
            "29 conv_pw_4_bn\n",
            "30 conv_pw_4_relu\n",
            "31 conv_dw_5\n",
            "32 conv_dw_5_bn\n",
            "33 conv_dw_5_relu\n",
            "34 conv_pw_5\n",
            "35 conv_pw_5_bn\n",
            "36 conv_pw_5_relu\n",
            "37 conv_pad_6\n",
            "38 conv_dw_6\n",
            "39 conv_dw_6_bn\n",
            "40 conv_dw_6_relu\n",
            "41 conv_pw_6\n",
            "42 conv_pw_6_bn\n",
            "43 conv_pw_6_relu\n",
            "44 conv_dw_7\n",
            "45 conv_dw_7_bn\n",
            "46 conv_dw_7_relu\n",
            "47 conv_pw_7\n",
            "48 conv_pw_7_bn\n",
            "49 conv_pw_7_relu\n",
            "50 conv_dw_8\n",
            "51 conv_dw_8_bn\n",
            "52 conv_dw_8_relu\n",
            "53 conv_pw_8\n",
            "54 conv_pw_8_bn\n",
            "55 conv_pw_8_relu\n",
            "56 conv_dw_9\n",
            "57 conv_dw_9_bn\n",
            "58 conv_dw_9_relu\n",
            "59 conv_pw_9\n",
            "60 conv_pw_9_bn\n",
            "61 conv_pw_9_relu\n",
            "62 conv_dw_10\n",
            "63 conv_dw_10_bn\n",
            "64 conv_dw_10_relu\n",
            "65 conv_pw_10\n",
            "66 conv_pw_10_bn\n",
            "67 conv_pw_10_relu\n",
            "68 conv_dw_11\n",
            "69 conv_dw_11_bn\n",
            "70 conv_dw_11_relu\n",
            "71 conv_pw_11\n",
            "72 conv_pw_11_bn\n",
            "73 conv_pw_11_relu\n",
            "74 conv_pad_12\n",
            "75 conv_dw_12\n",
            "76 conv_dw_12_bn\n",
            "77 conv_dw_12_relu\n",
            "78 conv_pw_12\n",
            "79 conv_pw_12_bn\n",
            "80 conv_pw_12_relu\n",
            "81 conv_dw_13\n",
            "82 conv_dw_13_bn\n",
            "83 conv_dw_13_relu\n",
            "84 conv_pw_13\n",
            "85 conv_pw_13_bn\n",
            "86 conv_pw_13_relu\n",
            "87 global_average_pooling2d_1\n",
            "88 dense_7\n",
            "89 dense_8\n",
            "90 dense_9\n",
            "91 dense_10\n"
          ],
          "name": "stdout"
        }
      ]
    },
    {
      "cell_type": "code",
      "metadata": {
        "id": "1jdn1dxBfup5",
        "colab_type": "code",
        "colab": {}
      },
      "source": [
        "for layer in model.layers[:20]:\n",
        "    layer.trainable=False\n",
        "for layer in model.layers[20:]:\n",
        "    layer.trainable=True\n",
        "    "
      ],
      "execution_count": 0,
      "outputs": []
    },
    {
      "cell_type": "markdown",
      "metadata": {
        "id": "lqsc-iJXfuqA",
        "colab_type": "text"
      },
      "source": [
        "## since we are using a pre trained model we need to make sure the input dimentions are the same "
      ]
    },
    {
      "cell_type": "code",
      "metadata": {
        "id": "ciKdL_k4fuqC",
        "colab_type": "code",
        "outputId": "0d4d9c0a-1ea0-427a-9709-973848589bfe",
        "colab": {
          "base_uri": "https://localhost:8080/",
          "height": 227
        }
      },
      "source": [
        "model.compile(Adam(), loss = \"categorical_crossentropy\", metrics = [\"acc\"])\n",
        "\n",
        "model.fit_generator(\n",
        "        train_generator,\n",
        "        steps_per_epoch=1,\n",
        "        epochs=20,\n",
        "        validation_data=validation_generator,\n",
        "        validation_steps=1,\n",
        "        verbose = 2)\n"
      ],
      "execution_count": 0,
      "outputs": [
        {
          "output_type": "error",
          "ename": "NameError",
          "evalue": "ignored",
          "traceback": [
            "\u001b[0;31m---------------------------------------------------------------------------\u001b[0m",
            "\u001b[0;31mNameError\u001b[0m                                 Traceback (most recent call last)",
            "\u001b[0;32m<ipython-input-32-4e5aa9d02e7d>\u001b[0m in \u001b[0;36m<module>\u001b[0;34m()\u001b[0m\n\u001b[1;32m      2\u001b[0m \u001b[0;34m\u001b[0m\u001b[0m\n\u001b[1;32m      3\u001b[0m model.fit_generator(\n\u001b[0;32m----> 4\u001b[0;31m         \u001b[0mtrain_generator\u001b[0m\u001b[0;34m,\u001b[0m\u001b[0;34m\u001b[0m\u001b[0;34m\u001b[0m\u001b[0m\n\u001b[0m\u001b[1;32m      5\u001b[0m         \u001b[0msteps_per_epoch\u001b[0m\u001b[0;34m=\u001b[0m\u001b[0;36m1\u001b[0m\u001b[0;34m,\u001b[0m\u001b[0;34m\u001b[0m\u001b[0;34m\u001b[0m\u001b[0m\n\u001b[1;32m      6\u001b[0m         \u001b[0mepochs\u001b[0m\u001b[0;34m=\u001b[0m\u001b[0;36m20\u001b[0m\u001b[0;34m,\u001b[0m\u001b[0;34m\u001b[0m\u001b[0;34m\u001b[0m\u001b[0m\n",
            "\u001b[0;31mNameError\u001b[0m: name 'train_generator' is not defined"
          ]
        }
      ]
    },
    {
      "cell_type": "code",
      "metadata": {
        "id": "KuJtiXdZfuqH",
        "colab_type": "code",
        "colab": {}
      },
      "source": [
        ""
      ],
      "execution_count": 0,
      "outputs": []
    }
  ]
}