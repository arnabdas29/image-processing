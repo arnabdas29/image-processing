{
  "nbformat": 4,
  "nbformat_minor": 0,
  "metadata": {
    "colab": {
      "name": "session1.ipynb",
      "provenance": [],
      "collapsed_sections": [],
      "toc_visible": true,
      "authorship_tag": "ABX9TyOmkrS7SAfbF86CxWusBGqk",
      "include_colab_link": true
    },
    "kernelspec": {
      "name": "python3",
      "display_name": "Python 3"
    }
  },
  "cells": [
    {
      "cell_type": "markdown",
      "metadata": {
        "id": "view-in-github",
        "colab_type": "text"
      },
      "source": [
        "<a href=\"https://colab.research.google.com/github/arnabdas29/image-rekognition/blob/master/session1.ipynb\" target=\"_parent\"><img src=\"https://colab.research.google.com/assets/colab-badge.svg\" alt=\"Open In Colab\"/></a>"
      ]
    },
    {
      "cell_type": "code",
      "metadata": {
        "id": "E4Cd-ULyuBRd",
        "colab_type": "code",
        "colab": {}
      },
      "source": [
        "import cv2\n",
        "import matplotlib.pyplot as plt\n",
        "import numpy as np\n"
      ],
      "execution_count": 0,
      "outputs": []
    },
    {
      "cell_type": "code",
      "metadata": {
        "id": "J9cznK3suGQf",
        "colab_type": "code",
        "outputId": "85919548-9100-43f6-ac16-43f8ae52a056",
        "colab": {
          "base_uri": "https://localhost:8080/",
          "height": 34
        }
      },
      "source": [
        "img = cv2.imread(\"Lenna.jpg\",0)\n",
        "cv2.imwrite(\"Duplicate.jpg\",img)"
      ],
      "execution_count": 0,
      "outputs": [
        {
          "output_type": "execute_result",
          "data": {
            "text/plain": [
              "True"
            ]
          },
          "metadata": {
            "tags": []
          },
          "execution_count": 13
        }
      ]
    },
    {
      "cell_type": "markdown",
      "metadata": {
        "id": "11cjfQw4Udvb",
        "colab_type": "text"
      },
      "source": [
        "--------HISTOGRAM----------"
      ]
    },
    {
      "cell_type": "code",
      "metadata": {
        "id": "V9r7eJ-yujHi",
        "colab_type": "code",
        "outputId": "13ecb97c-e3c3-4a9e-f0d2-ee0fb6c894f6",
        "colab": {
          "base_uri": "https://localhost:8080/",
          "height": 282
        }
      },
      "source": [
        "histo = cv2.calcHist([img],[0],None,[256],[0,256])\n",
        "plt.plot(histo)"
      ],
      "execution_count": 0,
      "outputs": [
        {
          "output_type": "execute_result",
          "data": {
            "text/plain": [
              "[<matplotlib.lines.Line2D at 0x7f9399bdd3c8>]"
            ]
          },
          "metadata": {
            "tags": []
          },
          "execution_count": 21
        },
        {
          "output_type": "display_data",
          "data": {
            "image/png": "[encoded data removed]",
            "text/plain": [
              "<Figure size 432x288 with 1 Axes>"
            ]
          },
          "metadata": {
            "tags": []
          }
        }
      ]
    },
    {
      "cell_type": "markdown",
      "metadata": {
        "id": "KbePDp-cUSft",
        "colab_type": "text"
      },
      "source": [
        "----------CROSS CORRELATION-----------"
      ]
    },
    {
      "cell_type": "code",
      "metadata": {
        "id": "9OrEsnngxo_b",
        "colab_type": "code",
        "colab": {}
      },
      "source": [
        "def crosscorr(a,b,r1,c1,r2,c2):\n",
        "  r = int(r1-r2+1)\n",
        "  c = int(c1-c2+1)\n",
        "  row = int(r2/2)\n",
        "  col = int(c2/2)\n",
        "\n",
        "  co = np.zeros((r,c),dtype = int)\n",
        "\n",
        "  for i in range(0,r):\n",
        "    for j in range(0,c):\n",
        "      val = 0\n",
        "      for x in range(-row,row+1):\n",
        "        for y in range(-col,col+1):\n",
        "          val = val + (a[i+x,j+y]*b[x,y])\n",
        "      co[i,j] = val\n",
        "  return co"
      ],
      "execution_count": 0,
      "outputs": []
    },
    {
      "cell_type": "code",
      "metadata": {
        "id": "rq4zZUWp6EvJ",
        "colab_type": "code",
        "outputId": "14c21cda-e090-4569-ffb9-a5325111dcb2",
        "colab": {
          "base_uri": "https://localhost:8080/",
          "height": 68
        }
      },
      "source": [
        "a = np.array([[1,2,3,4,5],[6,7,8,9,10],[11,12,13,14,15],[16,17,18,19,20],[21,22,23,24,25]]) #img matrix\n",
        "b = np.array([[1,2,3],[4,5,6],[7,8,9]]) #kernel\n",
        "\n",
        "ca = crosscorr(a,b,5,5,3,3)\n",
        "print(ca)"
      ],
      "execution_count": 0,
      "outputs": [
        {
          "output_type": "stream",
          "text": [
            "[[687 642 687]\n",
            " [312 267 312]\n",
            " [537 492 537]]\n"
          ],
          "name": "stdout"
        }
      ]
    },
    {
      "cell_type": "markdown",
      "metadata": {
        "id": "u9DUSb53UY2r",
        "colab_type": "text"
      },
      "source": [
        "-----------CONVOLUTION-----------"
      ]
    },
    {
      "cell_type": "code",
      "metadata": {
        "id": "DlZz1kxB7E30",
        "colab_type": "code",
        "outputId": "c0c8e788-1084-4f24-ceeb-2828ac19476e",
        "colab": {
          "base_uri": "https://localhost:8080/",
          "height": 170
        }
      },
      "source": [
        "c = np.zeros((3,3),dtype = int)\n",
        "d = np.zeros((3,3),dtype = int)\n",
        "for i in range(0,3):\n",
        "  for j in range(0,3):\n",
        "    c[i,j] = b[j,i]\n",
        "\n",
        "print(c)\n",
        "\n",
        "for i in range(0,3):\n",
        "  for j in range(0,3):\n",
        "    d[i,j] = c[2-i,2-j]\n",
        "print(d)\n",
        "\n",
        "cc = np.transpose(d)\n",
        "print(cc)"
      ],
      "execution_count": 0,
      "outputs": [
        {
          "output_type": "stream",
          "text": [
            "[[1 4 7]\n",
            " [2 5 8]\n",
            " [3 6 9]]\n",
            "[[9 6 3]\n",
            " [8 5 2]\n",
            " [7 4 1]]\n",
            "[[9 8 7]\n",
            " [6 5 4]\n",
            " [3 2 1]]\n"
          ],
          "name": "stdout"
        }
      ]
    },
    {
      "cell_type": "code",
      "metadata": {
        "id": "yAn3pk4I-twO",
        "colab_type": "code",
        "outputId": "9327041b-99b0-4a97-afba-a7f081c81414",
        "colab": {
          "base_uri": "https://localhost:8080/",
          "height": 68
        }
      },
      "source": [
        "cb = crosscorr(a,cc,5,5,3,3)\n",
        "print(cb)"
      ],
      "execution_count": 0,
      "outputs": [
        {
          "output_type": "stream",
          "text": [
            "[[303 288 333]\n",
            " [378 363 408]\n",
            " [603 588 633]]\n"
          ],
          "name": "stdout"
        }
      ]
    },
    {
      "cell_type": "markdown",
      "metadata": {
        "id": "tzFwBLdhDdRf",
        "colab_type": "text"
      },
      "source": [
        "before both the convolution and cross correlation will delete data...i.e., by N-1(size of kernel) of the orig img\n",
        "\n",
        "to avoid that we do padding."
      ]
    },
    {
      "cell_type": "markdown",
      "metadata": {
        "id": "pgZXSfLEUJLr",
        "colab_type": "text"
      },
      "source": [
        "--------------EDGE DETECTION------------"
      ]
    },
    {
      "cell_type": "code",
      "metadata": {
        "id": "PyUK50-rDuR6",
        "colab_type": "code",
        "outputId": "11859a2a-7495-4812-807d-ae338f077825",
        "colab": {
          "base_uri": "https://localhost:8080/",
          "height": 34
        }
      },
      "source": [
        "#2nd derivative edge detection\n",
        "new_kernel = np.array([[0,1,0],[1,-4,1],[0,1,0]]) #edge detection kernel, same for most cases\n",
        "\n",
        "edge = crosscorr(img,new_kernel,512,512,3,3)#detecting the edge of lenna.jpg\n",
        "cv2.imwrite(\"2ndderi.jpg\",edge)"
      ],
      "execution_count": 0,
      "outputs": [
        {
          "output_type": "execute_result",
          "data": {
            "text/plain": [
              "True"
            ]
          },
          "metadata": {
            "tags": []
          },
          "execution_count": 46
        }
      ]
    },
    {
      "cell_type": "code",
      "metadata": {
        "id": "LIvVSjEOZVtE",
        "colab_type": "code",
        "outputId": "a033e32e-0042-4809-c10c-6aca6c6c54e4",
        "colab": {
          "base_uri": "https://localhost:8080/",
          "height": 136
        }
      },
      "source": [
        "#sobel horizontal edge detection \n",
        "Gx = np.array((1,0,-1,2,0,-2,1,0,-1))\n",
        "Gx = Gx.reshape(3,3)\n",
        "print(Gx)\n",
        "\n",
        "temp1 = crosscorr(img,Gx,512,512,3,3)\n",
        "cv2.imwrite(\"Sobel hori.jpg\",temp)\n",
        "\n",
        "#sobel vertical edge detection \n",
        "Gy = np.array((1,2,1,0,0,0,-1,-2,-1))\n",
        "Gy = Gy.reshape(3,3)\n",
        "print(Gy)\n",
        "\n",
        "temp2 = crosscorr(img,Gy,512,512,3,3)\n",
        "cv2.imwrite(\"Sobel verti.jpg\",temp)\n",
        "\n",
        "#comlpete sobel edge detection\n",
        "g = np.sqrt(np.power(temp1,2)+np.power(temp2,2))\n",
        "g = g.astype(np.uint8)\n",
        "cv2.imwrite(\"Sobel.jpg\",g)\n"
      ],
      "execution_count": 0,
      "outputs": [
        {
          "output_type": "stream",
          "text": [
            "[[ 1  0 -1]\n",
            " [ 2  0 -2]\n",
            " [ 1  0 -1]]\n",
            "[[ 1  2  1]\n",
            " [ 0  0  0]\n",
            " [-1 -2 -1]]\n"
          ],
          "name": "stdout"
        },
        {
          "output_type": "execute_result",
          "data": {
            "text/plain": [
              "True"
            ]
          },
          "metadata": {
            "tags": []
          },
          "execution_count": 45
        }
      ]
    },
    {
      "cell_type": "markdown",
      "metadata": {
        "id": "F3T2YGPCxdNy",
        "colab_type": "text"
      },
      "source": [
        "-------HISTOGRAM EQUALISATION----------"
      ]
    },
    {
      "cell_type": "code",
      "metadata": {
        "id": "703iTsC_xh0T",
        "colab_type": "code",
        "outputId": "b9890e36-97a2-46ce-bccb-a6548cc1f319",
        "colab": {
          "base_uri": "https://localhost:8080/",
          "height": 282
        }
      },
      "source": [
        "img = cv2.imread(\"Lenna.jpg\",0)\n",
        "img_bright = img + 10    #increasing brightness\n",
        "img_contr = img*0.2 + 10  #increasing contrast\n",
        "img_contr=img_contr.astype(np.uint8)\n",
        "histo1 = cv2.calcHist([img],[0],None,[256],[0,256]) \n",
        "histo2 = cv2.calcHist([img_bright],[0],None,[256],[0,256])\n",
        "histo3 = cv2.calcHist([img_contr],[0],None,[256],[0,256])\n",
        "cv2.imwrite(\"Bright_lenna.jpg\",img_bright)\n",
        "cv2.imwrite(\"Contr lenna.jpg\",img_contr)\n",
        "img = cv2.cvtColor(img,cv2.COLOR_BGR2RGB) #converting RGB to BGR\n",
        "\n",
        "plt.imshow(img)\n",
        "plt.subplot(221)\n",
        "plt.plot(histo1)\n",
        "plt.subplot(222)\n",
        "plt.plot(histo2)\n",
        "plt.subplot(223)\n",
        "plt.plot(histo3)"
      ],
      "execution_count": 0,
      "outputs": [
        {
          "output_type": "execute_result",
          "data": {
            "text/plain": [
              "[<matplotlib.lines.Line2D at 0x7f9397283898>]"
            ]
          },
          "metadata": {
            "tags": []
          },
          "execution_count": 75
        },
        {
          "output_type": "display_data",
          "data": {
            "image/png": "[encoded data removed]",
            "text/plain": [
              "<Figure size 432x288 with 3 Axes>"
            ]
          },
          "metadata": {
            "tags": []
          }
        }
      ]
    },
    {
      "cell_type": "code",
      "metadata": {
        "id": "i8-EyOtzzo_1",
        "colab_type": "code",
        "colab": {}
      },
      "source": [
        ""
      ],
      "execution_count": 0,
      "outputs": []
    }
  ]
}